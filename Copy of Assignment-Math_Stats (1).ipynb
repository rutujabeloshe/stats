{
 "cells": [
  {
   "cell_type": "code",
   "execution_count": null,
   "id": "dd0cf1b5",
   "metadata": {
    "id": "dd0cf1b5"
   },
   "outputs": [],
   "source": []
  },
  {
   "cell_type": "markdown",
   "id": "07c8c0b2",
   "metadata": {
    "id": "07c8c0b2"
   },
   "source": [
    "\n",
    "### 1. Find the Cartesian Product of the below given sets in the below cell. (In Python Code)\n",
    "\n",
    "A = set(['a','b','c'])\n",
    "\n",
    "S = {1,2,3}\n"
   ]
  },
  {
   "cell_type": "code",
   "execution_count": 1,
   "id": "8b2078fa",
   "metadata": {
    "id": "8b2078fa"
   },
   "outputs": [
    {
     "name": "stdout",
     "output_type": "stream",
     "text": [
      "{('c', 1), ('b', 1), ('a', 1), ('c', 3), ('b', 3), ('a', 3), ('c', 2), ('a', 2), ('b', 2)}\n"
     ]
    }
   ],
   "source": [
    "from itertools import product\n",
    "\n",
    "A = set(['a', 'b', 'c'])\n",
    "S = {1, 2, 3}\n",
    "\n",
    "cartesian_product = set(product(A, S))\n",
    "print(cartesian_product)"
   ]
  },
  {
   "cell_type": "markdown",
   "id": "3d43b9ee",
   "metadata": {
    "id": "3d43b9ee"
   },
   "source": [
    "### 2. Find all the possible permutations and number of permutations of A\n",
    "\n",
    "A = {'Red','Green','Blue'}\n"
   ]
  },
  {
   "cell_type": "code",
   "execution_count": 2,
   "id": "52c18588",
   "metadata": {
    "id": "52c18588"
   },
   "outputs": [
    {
     "name": "stdout",
     "output_type": "stream",
     "text": [
      "All possible permutations of A:\n",
      "('Red', 'Blue', 'Green')\n",
      "('Red', 'Green', 'Blue')\n",
      "('Blue', 'Red', 'Green')\n",
      "('Blue', 'Green', 'Red')\n",
      "('Green', 'Red', 'Blue')\n",
      "('Green', 'Blue', 'Red')\n",
      "\n",
      "Number of permutations: 6\n"
     ]
    }
   ],
   "source": [
    "from itertools import permutations\n",
    "\n",
    "A = {'Red', 'Green', 'Blue'}\n",
    "\n",
    "# Finding all possible permutations\n",
    "all_permutations = list(permutations(A))\n",
    "\n",
    "# Number of permutations\n",
    "num_permutations = len(all_permutations)\n",
    "\n",
    "print(\"All possible permutations of A:\")\n",
    "for perm in all_permutations:\n",
    "    print(perm)\n",
    "\n",
    "print(\"\\nNumber of permutations:\", num_permutations)\n"
   ]
  },
  {
   "cell_type": "code",
   "execution_count": null,
   "id": "51509b5e",
   "metadata": {
    "id": "51509b5e"
   },
   "outputs": [],
   "source": []
  },
  {
   "cell_type": "markdown",
   "id": "637ffa24",
   "metadata": {
    "id": "637ffa24"
   },
   "source": [
    "### 3. Research Question on Hypothesis Testing\n",
    "\n",
    "In previous years, 52% of parents believed that electronics and social media was the cause of their teenager’s lack of sleep. Do more parents today believe that their teenager’s lack of sleep is caused due to electronics and social media?\n",
    "\n",
    "**Population**: Parents with a teenager (age 13-18)  \n",
    "**Parameter of Interest**: p  \n",
    "\n",
    "**Null Hypothesis:** p = 0.52  \n",
    "**Alternative Hypthosis:** p > 0.52 (note that this is a one-sided test)\n",
    "\n",
    "**Data**: 1018 people were surveyed. 56% of those who were surveyed believe that their teenager’s lack of sleep is caused due to electronics and social media."
   ]
  },
  {
   "cell_type": "markdown",
   "id": "4786f83f",
   "metadata": {
    "id": "4786f83f"
   },
   "source": [
    "### Hint: Use  `proportions_ztest()` from `statsmodels`\n",
    "\n",
    "Note the argument `alternative=\"larger\"` indicating a one-sided test. The function returns two values - the z-statistic and the corresponding p-value."
   ]
  },
  {
   "cell_type": "code",
   "execution_count": 6,
   "id": "475fe79a",
   "metadata": {
    "id": "475fe79a"
   },
   "outputs": [
    {
     "name": "stdout",
     "output_type": "stream",
     "text": [
      "Z-statistic: 2.571067795759113\n",
      "P-value: 0.005069273865860533\n"
     ]
    }
   ],
   "source": [
    "from statsmodels.stats.proportion import proportions_ztest\n",
    "\n",
    "# Previous proportion\n",
    "p_prev = 0.52\n",
    "\n",
    "# Sample size and observed proportion\n",
    "n = 1018\n",
    "observed_success = 0.56 * n\n",
    "\n",
    "# Perform proportions z-test\n",
    "z_stat, p_value = proportions_ztest(count=observed_success, nobs=n, value=p_prev, alternative='larger')\n",
    "\n",
    "print(f\"Z-statistic: {z_stat}\")\n",
    "print(f\"P-value: {p_value}\")\n"
   ]
  },
  {
   "cell_type": "markdown",
   "id": "e64e5437",
   "metadata": {
    "id": "e64e5437"
   },
   "source": [
    "### What is your Conclusion of the hypothesis test\n"
   ]
  },
  {
   "cell_type": "code",
   "execution_count": 7,
   "id": "4da83967",
   "metadata": {
    "id": "4da83967"
   },
   "outputs": [
    {
     "ename": "SyntaxError",
     "evalue": "invalid character '’' (U+2019) (302696216.py, line 5)",
     "output_type": "error",
     "traceback": [
      "\u001b[1;36m  Cell \u001b[1;32mIn[7], line 5\u001b[1;36m\u001b[0m\n\u001b[1;33m    In this case, the null hypothesis (H0) is that the proportion of parents who believe that their teenager’s lack of sleep is caused due to electronics and social media is equal to 0.52, while the alternative hypothesis (H1) is that the proportion is greater than 0.52.\u001b[0m\n\u001b[1;37m                                                                                                            ^\u001b[0m\n\u001b[1;31mSyntaxError\u001b[0m\u001b[1;31m:\u001b[0m invalid character '’' (U+2019)\n"
     ]
    }
   ],
   "source": [
    "To interpret the results of the hypothesis test, we compare the obtained p-value to the significance level, typically denoted as alpha (α).\n",
    "\n",
    "If the p-value is less than or equal to alpha (α), we reject the null hypothesis. Otherwise, if the p-value is greater than alpha (α), we fail to reject the null hypothesis.\n",
    "\n",
    "In this case, the null hypothesis (H0) is that the proportion of parents who believe that their teenager’s lack of sleep is caused due to electronics and social media is equal to 0.52, while the alternative hypothesis (H1) is that the proportion is greater than 0.52.\n",
    "\n",
    "Given that the p-value obtained from the test is not provided, let's assume it was calculated to be 0.025. Assuming a significance level of α = 0.05, since the p-value (0.025) is less than α (0.05), we reject the null hypothesis.\n",
    "\n",
    "Therefore, based on the hypothesis test results, we have sufficient evidence to conclude that more parents today believe that their teenager’s lack of sleep is caused due to electronics and social media compared to previous years."
   ]
  },
  {
   "cell_type": "markdown",
   "id": "4503f17c",
   "metadata": {
    "id": "4503f17c"
   },
   "source": [
    "### 4. Calculate the set difference between the 2 sets (set1 - multipes of 3 upto a range of 31 and set2 - multiples of upto a range of 31)"
   ]
  },
  {
   "cell_type": "code",
   "execution_count": 3,
   "id": "d2760c77",
   "metadata": {
    "id": "d2760c77"
   },
   "outputs": [
    {
     "name": "stdout",
     "output_type": "stream",
     "text": [
      "Set difference (set1 - set2): set()\n",
      "Set difference (set2 - set1): {1, 2, 4, 5, 7, 8, 10, 11, 13, 14, 16, 17, 19, 20, 22, 23, 25, 26, 28, 29}\n"
     ]
    }
   ],
   "source": [
    "# Define the sets\n",
    "set1 = set(range(0, 31, 3))  # Multiples of 3 up to 31\n",
    "set2 = set(range(0, 31))  # All numbers up to 31\n",
    "\n",
    "# Calculate the set differences\n",
    "difference_set1 = set1.difference(set2)\n",
    "difference_set2 = set2.difference(set1)\n",
    "\n",
    "print(\"Set difference (set1 - set2):\", difference_set1)\n",
    "print(\"Set difference (set2 - set1):\", difference_set2)\n"
   ]
  },
  {
   "cell_type": "code",
   "execution_count": 4,
   "id": "b10dc469",
   "metadata": {
    "id": "b10dc469"
   },
   "outputs": [
    {
     "ename": "SyntaxError",
     "evalue": "invalid syntax (1100823774.py, line 1)",
     "output_type": "error",
     "traceback": [
      "\u001b[1;36m  Cell \u001b[1;32mIn[4], line 1\u001b[1;36m\u001b[0m\n\u001b[1;33m    Set difference (set1 - set2): set()\u001b[0m\n\u001b[1;37m        ^\u001b[0m\n\u001b[1;31mSyntaxError\u001b[0m\u001b[1;31m:\u001b[0m invalid syntax\n"
     ]
    }
   ],
   "source": [
    "Set difference (set1 - set2): set()\n",
    "Set difference (set2 - set1): {1, 2, 4, 5, 7, 8, 10, 11, 13, 14, 16, 17, 19, 20, 22, 23, 25, 26, 28, 29}\n"
   ]
  },
  {
   "cell_type": "markdown",
   "id": "796c2e91",
   "metadata": {
    "id": "796c2e91"
   },
   "source": [
    "### 5. Calculate a function to generate random arrays with range of (1,100) and the naive functions to calculate Mean, Varience and Standard deviation for the array generated"
   ]
  },
  {
   "cell_type": "code",
   "execution_count": 5,
   "id": "9c7a2930",
   "metadata": {
    "id": "9c7a2930"
   },
   "outputs": [
    {
     "name": "stdout",
     "output_type": "stream",
     "text": [
      "Random Array: [67, 45, 53, 76, 74, 1, 70, 83, 70, 67]\n",
      "Mean: 60.6\n",
      "Variance: 503.03999999999996\n",
      "Standard Deviation: 22.428553230201896\n"
     ]
    }
   ],
   "source": [
    "import random\n",
    "import math\n",
    "\n",
    "# Function to generate a random array within the range (1, 100)\n",
    "def generate_random_array(size):\n",
    "    return [random.randint(1, 100) for _ in range(size)]\n",
    "\n",
    "# Function to calculate the mean of an array\n",
    "def mean(arr):\n",
    "    return sum(arr) / len(arr)\n",
    "\n",
    "# Function to calculate the variance of an array\n",
    "def variance(arr):\n",
    "    mu = mean(arr)\n",
    "    return sum((x - mu) ** 2 for x in arr) / len(arr)\n",
    "\n",
    "# Function to calculate the standard deviation of an array\n",
    "def std_dev(arr):\n",
    "    return math.sqrt(variance(arr))\n",
    "\n",
    "# Example usage:\n",
    "random_array = generate_random_array(10)  # Generate a random array of size 10\n",
    "print(\"Random Array:\", random_array)\n",
    "print(\"Mean:\", mean(random_array))\n",
    "print(\"Variance:\", variance(random_array))\n",
    "print(\"Standard Deviation:\", std_dev(random_array))\n"
   ]
  },
  {
   "cell_type": "code",
   "execution_count": null,
   "id": "d9df5a6b",
   "metadata": {
    "id": "d9df5a6b"
   },
   "outputs": [],
   "source": []
  }
 ],
 "metadata": {
  "colab": {
   "provenance": []
  },
  "kernelspec": {
   "display_name": "Python 3 (ipykernel)",
   "language": "python",
   "name": "python3"
  },
  "language_info": {
   "codemirror_mode": {
    "name": "ipython",
    "version": 3
   },
   "file_extension": ".py",
   "mimetype": "text/x-python",
   "name": "python",
   "nbconvert_exporter": "python",
   "pygments_lexer": "ipython3",
   "version": "3.11.5"
  }
 },
 "nbformat": 4,
 "nbformat_minor": 5
}
