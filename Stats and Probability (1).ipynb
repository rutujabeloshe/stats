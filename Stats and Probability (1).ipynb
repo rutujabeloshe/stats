{
 "cells": [
  {
   "cell_type": "code",
   "execution_count": null,
   "metadata": {},
   "outputs": [],
   "source": [
    "import pandas as pd\n",
    "import matplotlib.pyplot as plt\n",
    "import seaborn as sns"
   ]
  },
  {
   "cell_type": "markdown",
   "metadata": {},
   "source": [
    "### Q1. A telecom industry is keen to know the call duration of its customers to introduce new prepaid plans. The data for call duration in minutes is given as follows:\n",
    "Call duration (in minutes): 23, 03, 13, 04, 45, 35, 48, 98, 65, 45, 75, 24, 15, 25, 34, 17, 16, 17, 19\n",
    "\n",
    "Obtain the descriptive statistics of the data."
   ]
  },
  {
   "cell_type": "code",
   "execution_count": null,
   "metadata": {},
   "outputs": [],
   "source": [
    "# create the data series\n",
    "call_duration = pd.Series([23, 3, 13, 4, 45, 35, 48, 98, 65, 45, 75, 24, 15, 25, 34, 17, 16, 17, 19])\n"
   ]
  },
  {
   "cell_type": "code",
   "execution_count": null,
   "metadata": {},
   "outputs": [],
   "source": [
    "# obtain the summary statistics using the describe()\n",
    "call_duration.describe()"
   ]
  },
  {
   "cell_type": "code",
   "execution_count": null,
   "metadata": {},
   "outputs": [],
   "source": [
    "print(call_duration.mean())\n",
    "print(call_duration.median())\n",
    "print(call_duration.mode())\n",
    "print(call_duration.min())\n",
    "print(call_duration.max())"
   ]
  },
  {
   "cell_type": "code",
   "execution_count": null,
   "metadata": {},
   "outputs": [],
   "source": [
    "print(call_duration.quantile(0.25))\n",
    "print(call_duration.median())\n",
    "print(call_duration.quantile(0.75))"
   ]
  },
  {
   "cell_type": "code",
   "execution_count": null,
   "metadata": {},
   "outputs": [],
   "source": [
    "call_duration.value_counts()"
   ]
  },
  {
   "cell_type": "code",
   "execution_count": null,
   "metadata": {},
   "outputs": [],
   "source": [
    "print(call_duration.quantile(0.75)-call_duration.quantile(0.25))\n",
    "print(call_duration.std())\n",
    "print(call_duration.var())"
   ]
  },
  {
   "cell_type": "code",
   "execution_count": null,
   "metadata": {},
   "outputs": [],
   "source": [
    "Q1=call_duration.quantile(0.25)\n",
    "Q3=call_duration.quantile(0.75)\n",
    "IQR= Q3-Q1\n",
    "lower=Q1-1.5*IQR\n",
    "upper=Q3+1.5*IQR\n",
    "print(lower)\n",
    "print(upper)"
   ]
  },
  {
   "cell_type": "markdown",
   "metadata": {},
   "source": [
    "### Boxplot\n",
    "\n",
    "A box plot, also known as a box and whisker plot, is a graphical representation of a dataset that shows the distribution of the data and the presence of outliers. It displays the median, quartiles, and extreme values of the dataset in a visually concise way.\n",
    "\n",
    "Here is a breakdown of the components of a box plot:\n",
    "\n",
    "- Median: The middle value of the dataset, represented by a vertical line inside the box.\n",
    "- Quartiles: The dataset is divided into four equal parts, with each part containing 25% of the data. The first quartile (Q1) is the 25th percentile, the second quartile (Q2) is the median, and the third quartile (Q3) is the 75th percentile.\n",
    "- Interquartile range (IQR): The difference between the third and first quartiles (Q3 - Q1). It represents the spread of the middle 50% of the dataset.\n",
    "- Whiskers: Lines extending from the box to the minimum and maximum values of the dataset, excluding outliers.\n",
    "- Outliers: Individual data points that are more than 1.5 times the IQR away from the upper or lower quartile. They are represented as individual points beyond the whiskers.\n",
    "\n",
    "Box plots are useful for comparing the distributions of multiple datasets or for identifying outliers in a dataset. They are commonly used in statistical analysis, data visualization, and quality control."
   ]
  },
  {
   "cell_type": "markdown",
   "metadata": {},
   "source": [
    "### Q2. Consider the height of 12 students in a class. Obtain the range of height for the middle 50% of the data.\n",
    "\n",
    "height (cm) = [162, 158, 149, 167, 162, 154, 172, 160, 164, 159, 175, 163]"
   ]
  },
  {
   "cell_type": "code",
   "execution_count": null,
   "metadata": {},
   "outputs": [],
   "source": [
    "# given series of heights\n",
    "height = pd.Series([162, 158, 149, 167, 162, 154, 172, 160, 164, 159, 175, 163])\n",
    "\n",
    "# interquartile range returns the range of m*iddle 50% of the data\n",
    "\n",
    "# calculate the 1st quartile\n",
    "Q1 = height.quantile(0.25)\n",
    "\n",
    "# calculate the 3rd quartile\n",
    "Q3 = height.quantile(0.75)\n",
    "\n",
    "# calculate IQR\n",
    "IQR = Q3 - Q1\n",
    "print(\"Q1=\",Q1)\n",
    "print(\"Q3=\",Q3)\n",
    "print('Range of middle 50% of the data:', IQR)"
   ]
  },
  {
   "cell_type": "code",
   "execution_count": null,
   "metadata": {},
   "outputs": [],
   "source": [
    "lower=Q1-1.5*IQR\n",
    "print(\"lower: \", lower)\n",
    "upper=Q3+1.5*IQR\n",
    "print(\"upper: \", upper)\n",
    "\n",
    "outliers= height[(height<lower) | (height>upper)]\n",
    "print(\"outliers: \", outliers)"
   ]
  },
  {
   "cell_type": "code",
   "execution_count": null,
   "metadata": {},
   "outputs": [],
   "source": [
    "sns.boxplot(x=height)"
   ]
  },
  {
   "cell_type": "code",
   "execution_count": null,
   "metadata": {},
   "outputs": [],
   "source": [
    "range_height=height.max()-height.min()\n",
    "range_height"
   ]
  },
  {
   "cell_type": "markdown",
   "metadata": {},
   "source": [
    "### Standard Deviation\n",
    "\n",
    "Standard deviation is a statistical measure that indicates how much the individual data points in a dataset deviate from the mean (average) value of the dataset. It is a measure of the spread or variability of the data.\n",
    "\n",
    " A large value of the population standard deviation indicates that the data points are more spread out from the mean, while a small value indicates that the data points are more tightly clustered around the mean."
   ]
  },
  {
   "cell_type": "code",
   "execution_count": null,
   "metadata": {},
   "outputs": [],
   "source": [
    "height"
   ]
  },
  {
   "cell_type": "code",
   "execution_count": null,
   "metadata": {},
   "outputs": [],
   "source": [
    "from statistics import pstdev\n",
    "\n",
    "population_stdev = pstdev(height)\n",
    "\n",
    "print(\"Population Standard Deviation of Height:\", population_stdev)"
   ]
  },
  {
   "cell_type": "code",
   "execution_count": null,
   "metadata": {},
   "outputs": [],
   "source": [
    "from statistics import stdev\n",
    "\n",
    "sample_stdev = stdev(height)\n",
    "\n",
    "print(\"Population Standard Deviation of Height:\", sample_stdev)"
   ]
  },
  {
   "cell_type": "markdown",
   "metadata": {},
   "source": [
    "Note that the 'pstdev' function assumes that the entire population is available for analysis. If you only have a sample of the population, you should use the 'stdev' function instead, which calculates the sample standard deviation."
   ]
  },
  {
   "cell_type": "code",
   "execution_count": null,
   "metadata": {},
   "outputs": [],
   "source": [
    "df=pd.read_csv(filepath_or_buffer='Pokemon1.csv', \n",
    "               index_col=0, \n",
    "               header=0)\n",
    "df.head()"
   ]
  },
  {
   "cell_type": "code",
   "execution_count": null,
   "metadata": {},
   "outputs": [],
   "source": [
    "sns.distplot(df.Defense)"
   ]
  },
  {
   "cell_type": "markdown",
   "metadata": {},
   "source": [
    "### Skewness \n",
    "\n",
    "Skewness is a measure of the asymmetry of a probability distribution. It tells you how much the distribution deviates from being symmetric. A distribution that is perfectly symmetric will have a skewness value of 0.\n",
    "\n",
    "Skewness can take on different values depending on the shape of the distribution:\n",
    "\n",
    "- Negative Skewness: If the distribution is skewed to the left, it is said to have negative skewness. The skewness value will be less than 0.\n",
    "\n",
    "- Positive Skewness: If the distribution is skewed to the right, it is said to have positive skewness.  The skewness value will be greater than 0.\n",
    "\n",
    "- Zero Skewness: If the distribution is perfectly symmetric, it is said to have zero skewness. The skewness value will be 0."
   ]
  },
  {
   "cell_type": "code",
   "execution_count": null,
   "metadata": {},
   "outputs": [],
   "source": []
  },
  {
   "cell_type": "code",
   "execution_count": null,
   "metadata": {},
   "outputs": [],
   "source": [
    "\n",
    "import numpy as np\n",
    "import matplotlib.pyplot as plt\n",
    "\n",
    "# Define the standard normal distribution PDF\n",
    "def normal_distribution_pdf(x, mu=0, sigma=1):\n",
    "    return (1.0 / (sigma * np.sqrt(2 * np.pi))) * np.exp(-0.5 * ((x - mu) / sigma) ** 2)\n",
    "\n",
    "# Generate x values\n",
    "x = np.linspace(-5, 5, 1000)\n",
    "\n",
    "# Calculate y values based on the PDF\n",
    "y = normal_distribution_pdf(x)\n",
    "\n",
    "# Plot the curve\n",
    "plt.figure(figsize=(8, 6))\n",
    "plt.plot(x, y, label=\"μ=0, σ=1\")\n",
    "plt.title(\"Standard Normal Distribution\")\n",
    "plt.xlabel(\"x\")\n",
    "plt.ylabel(\"Probability Density\")\n",
    "plt.legend()\n",
    "plt.grid(True)\n",
    "plt.show()\n",
    "\n",
    "\n",
    "\n"
   ]
  },
  {
   "cell_type": "code",
   "execution_count": null,
   "metadata": {},
   "outputs": [],
   "source": [
    "x"
   ]
  },
  {
   "cell_type": "code",
   "execution_count": null,
   "metadata": {},
   "outputs": [],
   "source": [
    "from scipy.stats import skew\n",
    "\n",
    "skew_coeff_att=skew(x)\n",
    "skew_coeff_att"
   ]
  },
  {
   "cell_type": "code",
   "execution_count": null,
   "metadata": {},
   "outputs": [],
   "source": [
    "sns.distplot(df.Defense)"
   ]
  },
  {
   "cell_type": "code",
   "execution_count": null,
   "metadata": {},
   "outputs": [],
   "source": [
    "sns.boxplot(df.Defense)"
   ]
  },
  {
   "cell_type": "code",
   "execution_count": null,
   "metadata": {},
   "outputs": [],
   "source": [
    "skew_coeff_def=skew(df.Defense)\n",
    "skew_coeff_def"
   ]
  },
  {
   "cell_type": "code",
   "execution_count": null,
   "metadata": {},
   "outputs": [],
   "source": [
    "import numpy as np\n",
    "new_Defense=np.log(df.Attack)\n",
    "skew_coeff_def=skew(new_Defense)\n",
    "skew_coeff_def"
   ]
  },
  {
   "cell_type": "code",
   "execution_count": null,
   "metadata": {},
   "outputs": [],
   "source": [
    "np.log(-2)"
   ]
  },
  {
   "cell_type": "code",
   "execution_count": null,
   "metadata": {},
   "outputs": [],
   "source": [
    "sns.distplot(new_Defense)"
   ]
  },
  {
   "cell_type": "code",
   "execution_count": null,
   "metadata": {},
   "outputs": [],
   "source": [
    "new_df=df[df[\"Defense\"]<=150]\n",
    "new_df.shape"
   ]
  },
  {
   "cell_type": "code",
   "execution_count": null,
   "metadata": {},
   "outputs": [],
   "source": [
    "sns.distplot(new_df.Defense)"
   ]
  },
  {
   "cell_type": "code",
   "execution_count": null,
   "metadata": {},
   "outputs": [],
   "source": [
    "skew_coeff_def=skew(new_df.Defense)\n",
    "skew_coeff_def"
   ]
  },
  {
   "cell_type": "markdown",
   "metadata": {},
   "source": [
    "### Kurtosis\n",
    "\n",
    "When interpreting the value of kurtosis, values greater than 0 indicate that the distribution has heavier tails and a sharper peak than the normal distribution. A value less than 0 indicates a flatter peak than the normal distribution. A value of 0 indicates a normal distribution."
   ]
  },
  {
   "cell_type": "code",
   "execution_count": null,
   "metadata": {},
   "outputs": [],
   "source": [
    "from scipy.stats import kurtosis"
   ]
  },
  {
   "cell_type": "code",
   "execution_count": null,
   "metadata": {},
   "outputs": [],
   "source": [
    "kurt_coeff_att=kurtosis(df.Defense,\n",
    "                        fisher=False)\n",
    "kurt_coeff_att"
   ]
  },
  {
   "cell_type": "markdown",
   "metadata": {},
   "source": [
    "### Correlation\n",
    "\n",
    "Correlation refers to a statistical measure that indicates the degree to which two or more variables are related or associated with each other. In other words, it measures how closely the values of two variables move together.\n",
    "\n",
    "Correlation is often expressed as a correlation coefficient, which is a numerical value that ranges from -1 to 1. A correlation coefficient of +1 indicates a perfect positive correlation, meaning that the two variables move in the same direction. A correlation coefficient of -1 indicates a perfect negative correlation, meaning that the two variables move in opposite directions. A correlation coefficient of 0 indicates no correlation, meaning that the two variables are not related.\n",
    "\n",
    "There are two main types of correlation:\n",
    "\n",
    "Pearson correlation: This is a type of correlation that measures the linear relationship between two continuous variables. It assumes that the variables are normally distributed and have a linear relationship.\n",
    "\n",
    "Spearman correlation: This is a type of correlation that measures the strength and direction of the monotonic relationship between two variables. It does not assume that the variables have a linear relationship or that they are normally distributed."
   ]
  },
  {
   "cell_type": "code",
   "execution_count": null,
   "metadata": {},
   "outputs": [],
   "source": [
    "df.head()"
   ]
  },
  {
   "cell_type": "code",
   "execution_count": null,
   "metadata": {},
   "outputs": [],
   "source": [
    "X=df[[\"HP\",\"Attack\",\"Defense\",\"Sp. Atk\",\"Sp. Def\",\"Speed\",\"Total\"]]"
   ]
  },
  {
   "cell_type": "code",
   "execution_count": null,
   "metadata": {},
   "outputs": [],
   "source": [
    "cov_df=X.corr()\n",
    "cov_df"
   ]
  },
  {
   "cell_type": "markdown",
   "metadata": {},
   "source": [
    "Heatmaps are useful to visualize the magnitude of relationship \n",
    "between multiple variables using the correlation matrix.\n",
    "Pairs which show high correlation,<-0.75  or >0.75, should be considered \n",
    "and we can eliminate one variable out of the pair leading to feature selection."
   ]
  },
  {
   "cell_type": "code",
   "execution_count": null,
   "metadata": {},
   "outputs": [],
   "source": [
    "corr_df=X.corr(method=\"pearson\") #\"spearman\",\"kendall\"\n",
    "# print(corr_df)\n",
    "\n",
    "sns.heatmap(corr_df, vmax=1.0, vmin=-1.0, annot=True)"
   ]
  },
  {
   "cell_type": "markdown",
   "metadata": {},
   "source": [
    "### Probability"
   ]
  },
  {
   "cell_type": "markdown",
   "metadata": {},
   "source": [
    "Probability is a measure of the likelihood or chance of an event occurring. It is expressed as a number between 0 and 1, where 0 indicates an impossible event and 1 indicates a certain event. The probability of an event is calculated as the ratio of the number of favorable outcomes to the total number of possible outcomes.\n",
    "\n",
    "For example, the probability of flipping a fair coin and getting heads is 1/2 or 0.5, because there is one favorable outcome (getting heads) out of two possible outcomes (getting heads or tails). Similarly, the probability of rolling a standard six-sided die and getting a 4 is 1/6 or approximately 0.167, because there is one favorable outcome (rolling a 4) out of six possible outcomes (rolling a 1, 2, 3, 4, 5, or 6)."
   ]
  },
  {
   "cell_type": "markdown",
   "metadata": {},
   "source": [
    "## Q3. Calculate the below Probability\n",
    "\n",
    "- What is the probability of selecting a jack out of a deck of cards\n",
    "\n",
    "- What is the probability of selecting a spade out of a deck of cards\n",
    "\n",
    "- what would be the probability of selecting a heart or a club card from deck of cards\n",
    "\n",
    "- What is the probability of drawing an ace or a king or a queen\n",
    "\n",
    "- calculate the probability of drawing an heart or an ace\n",
    "\n",
    "- In a pack of 52 cards, what is the probability of selecting a black card?\n",
    "\n",
    "- In a pack of 52 cards, what is the probability of selecting an ace card?"
   ]
  },
  {
   "cell_type": "code",
   "execution_count": null,
   "metadata": {},
   "outputs": [],
   "source": [
    "# What is the probability of selecting a jack out of a deck of cards\n",
    "jacks = 4\n",
    "cards=52\n",
    "\n",
    "jack_prob=jacks/cards\n",
    "\n",
    "print(jack_prob)\n",
    "\n",
    "print(round(jack_prob*100,4))"
   ]
  },
  {
   "cell_type": "code",
   "execution_count": null,
   "metadata": {},
   "outputs": [],
   "source": [
    "#What is the probability of selecting a spade out of a deck of cards\n",
    "\n",
    "def event_prob(event_outcomes,sample_space):\n",
    "    prob=(event_outcomes/sample_space)\n",
    "    return(round(prob*100,4))\n",
    "\n",
    "spade=13\n",
    "cards=52\n",
    "\n",
    "event_prob(spade,cards)"
   ]
  },
  {
   "cell_type": "code",
   "execution_count": null,
   "metadata": {},
   "outputs": [],
   "source": [
    "#what would be the probability of selecting a heart or a club card from deck of cards\n",
    "\n",
    "cards=52\n",
    "hearts=13\n",
    "clubs=13\n",
    "\n",
    "total_prob=event_prob(hearts,cards)+event_prob(clubs,cards)\n",
    "total_prob"
   ]
  },
  {
   "cell_type": "code",
   "execution_count": null,
   "metadata": {},
   "outputs": [],
   "source": [
    "#What is the probability of drawing an ace or a king or a queen\n",
    "\n",
    "aces=4\n",
    "kings=4\n",
    "queens=4\n",
    "\n",
    "\n",
    "total_prob=event_prob(aces,cards)+event_prob(kings,cards)+event_prob(queens,cards)\n",
    "total_prob"
   ]
  },
  {
   "cell_type": "code",
   "execution_count": null,
   "metadata": {},
   "outputs": [],
   "source": [
    "#calculate the probability of drawing a heart or an ace\n",
    "\n",
    "cards=52\n",
    "hearts=13\n",
    "aces=4\n",
    "heart_ace=1\n",
    "\n",
    "\n",
    "total_prob=event_prob(hearts,cards)+event_prob(aces,cards) - event_prob(heart_ace,cards)\n",
    "            \n",
    "\n",
    "total_prob"
   ]
  },
  {
   "cell_type": "code",
   "execution_count": null,
   "metadata": {},
   "outputs": [],
   "source": [
    "13/52 + 4/52 -1/52"
   ]
  },
  {
   "cell_type": "code",
   "execution_count": null,
   "metadata": {},
   "outputs": [],
   "source": [
    "# In a pack of 52 cards, what is the probability of selecting a black card?\n",
    "\n",
    "# from a pack of 52 cards, the chance of selecting any card is equally likely\n",
    "probability_of_selecting_card = 1/52\n",
    "\n",
    "# a pack of cards has 26 black cards\n",
    "required_probability = 26 * probability_of_selecting_card\n",
    "\n",
    "print('The probability of selecting a black card', required_probability)"
   ]
  },
  {
   "cell_type": "code",
   "execution_count": null,
   "metadata": {},
   "outputs": [],
   "source": [
    "# In a pack of 52 cards, what is the probability of selecting an ace card?\n",
    "\n",
    "# Sample Space\n",
    "cards = 52\n",
    "\n",
    "# Outcomes\n",
    "aces = 4\n",
    "\n",
    "# Divide possible outcomes by the sample set\n",
    "ace_probability = aces / cards\n",
    "\n",
    "# Print probability rounded to two decimal places\n",
    "print(round(ace_probability, 2))"
   ]
  },
  {
   "cell_type": "markdown",
   "metadata": {},
   "source": [
    "## Q4. What is the probability that a boy likes both the dishes?"
   ]
  },
  {
   "cell_type": "code",
   "execution_count": null,
   "metadata": {},
   "outputs": [],
   "source": [
    "# probability that a boy likes both the dishes\n",
    "PB_likes_SP = 70/155\n",
    "print(round(PB_likes_SP*100,4))"
   ]
  },
  {
   "cell_type": "code",
   "execution_count": null,
   "metadata": {},
   "outputs": [],
   "source": [
    "# probability that the favourite dish for both boys and girls is sizzlers\n",
    "PS = 65/155\n",
    "print(round(PS*100,4))"
   ]
  },
  {
   "cell_type": "markdown",
   "metadata": {},
   "source": [
    "What is the probability that a girl is chosen given that the person likes Pizza?"
   ]
  },
  {
   "cell_type": "code",
   "execution_count": null,
   "metadata": {},
   "outputs": [],
   "source": [
    "P_P=90/155\n",
    "PG_P=60/155\n",
    "#P(G|P)=P(G&P)/P(P)\n",
    "print(PG_P/P_P)"
   ]
  },
  {
   "cell_type": "markdown",
   "metadata": {},
   "source": [
    "What is the probability that the favourite food is Pizza given that he is a boy?"
   ]
  },
  {
   "cell_type": "code",
   "execution_count": null,
   "metadata": {},
   "outputs": [],
   "source": [
    "P_B=70/155\n",
    "PB_P=30/155\n",
    "\n",
    "print(PB_P/P_B)"
   ]
  },
  {
   "cell_type": "markdown",
   "metadata": {},
   "source": [
    "### Conditional Probability\n",
    "\n",
    "Conditional probability is the probability of an event occurring given that another event has already occurred. In other words, it is the probability of an event A given that event B has occurred, denoted by P(A | B).\n",
    "\n",
    "The formula for conditional probability is given by:\n",
    "\n",
    "P(A | B) = P(A and B) / P(B)\n",
    "\n",
    "where P(A and B) is the probability of both A and B occurring, and P(B) is the probability of event B occurring."
   ]
  },
  {
   "cell_type": "markdown",
   "metadata": {},
   "source": [
    "## Q5. The probability that it is Friday and that a student is absent is 0.03. Since there are 5 school days in a week, the probability that it is Friday is 0.2. What is the probability that a student is absent given that today is Friday?"
   ]
  },
  {
   "cell_type": "code",
   "execution_count": null,
   "metadata": {},
   "outputs": [],
   "source": [
    "# Define the probabilities\n",
    "P_F = 0.2     # probability that it is Friday\n",
    "P_A_and_F = 0.03   # probability that it is Friday and a student is absent\n",
    "\n",
    "# Use conditional probability formula to find P(A|F)\n",
    "P_A_given_F = P_A_and_F / P_F\n",
    "\n",
    "# Print the result\n",
    "print(\"The probability that a student is absent given that it is Friday is:\", P_A_given_F)\n"
   ]
  },
  {
   "cell_type": "markdown",
   "metadata": {},
   "source": [
    "## Q6. A teacher gave her students of the class two tests namely maths and science. 25% of the students passed both the tests and 40% of the students passed the maths test. What percent of those who passed the maths test also passed the science test?"
   ]
  },
  {
   "cell_type": "code",
   "execution_count": null,
   "metadata": {},
   "outputs": [],
   "source": []
  },
  {
   "cell_type": "code",
   "execution_count": null,
   "metadata": {},
   "outputs": [],
   "source": [
    "# Define the probabilities\n",
    "P_M = 0.4     # probability that a student passed the maths test\n",
    "P_M_and_S = 0.25   # probability that a student passed both tests\n",
    "\n",
    "# Use conditional probability formula to find P(S|M)\n",
    "P_S_given_M = P_M_and_S / P_M\n",
    "\n",
    "# Convert the result to percentage\n",
    "P_S_given_M_percent = P_S_given_M * 100\n",
    "\n",
    "# Print the result\n",
    "print(\"The percentage of students who passed the maths test also passed the science test is:\", P_S_given_M_percent, \"%\")\n"
   ]
  },
  {
   "cell_type": "markdown",
   "metadata": {},
   "source": [
    "## Q7. A bag contains green and yellow balls. Two balls are drawn without replacement. The probability of selecting a green ball and then a yellow ball is 0.28. The probability of selecting a green ball on the first draw is 0.5. Find the probability of selecting a yellow ball on the second draw, given that the first ball drawn was green."
   ]
  },
  {
   "cell_type": "code",
   "execution_count": null,
   "metadata": {},
   "outputs": [],
   "source": []
  },
  {
   "cell_type": "code",
   "execution_count": null,
   "metadata": {},
   "outputs": [],
   "source": [
    "# Define the probabilities\n",
    "P_G1 = 0.5  # probability of selecting a green ball on the first draw\n",
    "P_G1_Y2 = 0.28  # probability of selecting a green ball and then a yellow ball\n",
    "P_Y2_given_G1 = 0  # initialize the probability of selecting a yellow ball on the second draw given that the first ball drawn was green\n",
    "\n",
    "# Use conditional probability formula to find P(Y2|G1)\n",
    "if P_G1 != 0:  # make sure denominator is not zero\n",
    "    P_Y2_given_G1 = P_G1_Y2 / P_G1\n",
    "\n",
    "# Print the result\n",
    "print(\"The probability of selecting a yellow ball on the second draw given that the first ball drawn was green is:\", P_Y2_given_G1)\n"
   ]
  },
  {
   "cell_type": "markdown",
   "metadata": {},
   "source": [
    "\n",
    "# Permutations and Combinations"
   ]
  },
  {
   "cell_type": "markdown",
   "metadata": {},
   "source": [
    "**Both permutations and combinations deal with counting the number of ways in which a set of objects can be selected or arranged, but they differ in the way that they consider the order of the objects.**\n",
    "\n",
    "**Permutations refer to the number of different ways in which a set of objects can be arranged in a particular order. A permutation is an ordered arrangement of a set of objects or symbols, and the number of permutations of a set of n objects is denoted by n!.**\n",
    "\n",
    "For example, consider a set of three letters: A, B, and C. The permutations of this set are:\n",
    "\n",
    "ABC, ACB, BAC, BCA, CAB, CBA\n",
    "\n",
    "There are 6 possible permutations of the set of three letters. This can be calculated using the formula for permutations:\n",
    "\n",
    "n! = 3! = 3 x 2 x 1 = 6\n",
    "\n",
    "In general, the formula for permutations of n objects taken r at a time (where r ≤ n) is given by:\n",
    "\n",
    "P(n,r) = n! / (n-r)!\n",
    "\n",
    "where P(n,r) is the number of permutations of n objects taken r at a time."
   ]
  },
  {
   "cell_type": "markdown",
   "metadata": {},
   "source": [
    "**combinations refer to the number of ways in which a set of objects can be selected from a larger set without regard to the order in which they are chosen. A combination is an unordered selection of a subset of objects or symbols from a larger set, and the number of combinations of a set of n objects taken r at a time is denoted by n choose r, or sometimes written as C(n,r).**\n",
    "\n",
    "For example, consider a set of four letters: A, B, C, and D. The combinations of this set taken two at a time are:\n",
    "\n",
    "AB, AC, AD, BC, BD, CD\n",
    "\n",
    "There are 6 possible combinations of the set of four letters taken two at a time. This can be calculated using the formula for combinations:\n",
    "\n",
    "C(n,r) = n! / (r! (n-r)!)\n",
    "\n",
    "In the case of the set of four letters taken two at a time, we have:\n",
    "\n",
    "C(4,2) = 4! / (2! (4-2)!) = 6\n",
    "\n",
    "In general, the formula for combinations of n objects taken r at a time (where r ≤ n) is given by:\n",
    "\n",
    "C(n,r) = n! / (r! (n-r)!)"
   ]
  },
  {
   "cell_type": "code",
   "execution_count": 2,
   "metadata": {},
   "outputs": [
    {
     "name": "stdout",
     "output_type": "stream",
     "text": [
      "('Alex', 'Jhon', 'Dev')\n",
      "('Alex', 'Dev', 'Jhon')\n",
      "('Jhon', 'Alex', 'Dev')\n",
      "('Jhon', 'Dev', 'Alex')\n",
      "('Dev', 'Alex', 'Jhon')\n",
      "('Dev', 'Jhon', 'Alex')\n"
     ]
    }
   ],
   "source": [
    "# generates all possible permutations of a given length from a sequence of items. \n",
    "# In this case, we are generating all permutations of length 3.\n",
    "\n",
    "from itertools import permutations\n",
    "\n",
    "seq = permutations(['Alex','Jhon','Dev'])\n",
    "\n",
    "for p in list(seq):\n",
    "    print(p)"
   ]
  },
  {
   "cell_type": "code",
   "execution_count": 3,
   "metadata": {},
   "outputs": [
    {
     "name": "stdout",
     "output_type": "stream",
     "text": [
      "('Alex', 'Jhon')\n",
      "('Alex', 'Dev')\n",
      "('Jhon', 'Dev')\n"
     ]
    }
   ],
   "source": [
    "# generates all possible combinations of a given length from a sequence of items\n",
    "# we are generating all combinations of length 2.\n",
    "\n",
    "\n",
    "from itertools import combinations\n",
    "\n",
    "seq = combinations(['Alex','Jhon','Dev'],2)\n",
    "\n",
    "for p in list(seq):\n",
    "    print(p)"
   ]
  },
  {
   "cell_type": "code",
   "execution_count": 4,
   "metadata": {},
   "outputs": [
    {
     "ename": "NameError",
     "evalue": "name 'string' is not defined",
     "output_type": "error",
     "traceback": [
      "\u001b[1;31m---------------------------------------------------------------------------\u001b[0m",
      "\u001b[1;31mNameError\u001b[0m                                 Traceback (most recent call last)",
      "\u001b[1;32m~\\AppData\\Local\\Temp\\ipykernel_16372\\3548925306.py\u001b[0m in \u001b[0;36m<module>\u001b[1;34m\u001b[0m\n\u001b[1;32m----> 1\u001b[1;33m \u001b[0mstring\u001b[0m\u001b[1;33m.\u001b[0m\u001b[0mprintable\u001b[0m\u001b[1;33m.\u001b[0m\u001b[0mstrip\u001b[0m\u001b[1;33m(\u001b[0m\u001b[1;33m)\u001b[0m\u001b[1;33m\u001b[0m\u001b[1;33m\u001b[0m\u001b[0m\n\u001b[0m",
      "\u001b[1;31mNameError\u001b[0m: name 'string' is not defined"
     ]
    }
   ],
   "source": [
    "string.printable.strip()"
   ]
  },
  {
   "cell_type": "code",
   "execution_count": null,
   "metadata": {},
   "outputs": [],
   "source": [
    "import itertools\n",
    "import string\n",
    "\n",
    "def bruteforce_attack(password):\n",
    "    chars = string.printable.strip()\n",
    "    attempts = 0\n",
    "    for length in range(1, len(password) + 1):\n",
    "        for guess in itertools.product(chars, repeat=length):\n",
    "            attempts += 1\n",
    "            guess = ''.join(guess)\n",
    "            if guess == password:\n",
    "                return (attempts, guess)\n",
    "    return (attempts, None)\n",
    "\n",
    "password = input(\"Input the password to crack: \")\n",
    "attempts, guess = bruteforce_attack(password)\n",
    "if guess:\n",
    "    print(f\"Password cracked in {attempts} attempts. The password is {guess}.\")\n",
    "else:\n",
    "    print(f\"Password not cracked after {attempts} attempts.\")"
   ]
  },
  {
   "cell_type": "code",
   "execution_count": 5,
   "metadata": {},
   "outputs": [
    {
     "name": "stdout",
     "output_type": "stream",
     "text": [
      "('p', 'y')\n",
      "('p', 't')\n",
      "('p', 'h')\n",
      "('p', 'o')\n",
      "('p', 'n')\n",
      "('y', 'p')\n",
      "('y', 't')\n",
      "('y', 'h')\n",
      "('y', 'o')\n",
      "('y', 'n')\n",
      "('t', 'p')\n",
      "('t', 'y')\n",
      "('t', 'h')\n",
      "('t', 'o')\n",
      "('t', 'n')\n",
      "('h', 'p')\n",
      "('h', 'y')\n",
      "('h', 't')\n",
      "('h', 'o')\n",
      "('h', 'n')\n",
      "('o', 'p')\n",
      "('o', 'y')\n",
      "('o', 't')\n",
      "('o', 'h')\n",
      "('o', 'n')\n",
      "('n', 'p')\n",
      "('n', 'y')\n",
      "('n', 't')\n",
      "('n', 'h')\n",
      "('n', 'o')\n"
     ]
    }
   ],
   "source": [
    "seq = permutations(['p', 'y', 't', 'h', 'o', 'n'], 2)\n",
    "\n",
    "for p in list(seq):\n",
    "    print(p)"
   ]
  },
  {
   "cell_type": "code",
   "execution_count": 6,
   "metadata": {
    "collapsed": true
   },
   "outputs": [
    {
     "data": {
      "text/plain": [
       "[('a', 'a'),\n",
       " ('a', 'b'),\n",
       " ('a', 'c'),\n",
       " ('a', 'd'),\n",
       " ('b', 'a'),\n",
       " ('b', 'b'),\n",
       " ('b', 'c'),\n",
       " ('b', 'd'),\n",
       " ('c', 'a'),\n",
       " ('c', 'b'),\n",
       " ('c', 'c'),\n",
       " ('c', 'd'),\n",
       " ('d', 'a'),\n",
       " ('d', 'b'),\n",
       " ('d', 'c'),\n",
       " ('d', 'd')]"
      ]
     },
     "execution_count": 6,
     "metadata": {},
     "output_type": "execute_result"
    }
   ],
   "source": [
    "# generates the Cartesian product of input iterables.\n",
    "# the input iterable is x and we are generating all possible pairs of elements from x.\n",
    "\n",
    "from itertools import product\n",
    "x = [\"a\", \"b\", \"c\", \"d\"]\n",
    "\n",
    "# METHOD 1\n",
    "\n",
    "\n",
    "    \n",
    "# Method 2\n",
    "\n",
    "[p for p in  product(x, repeat=2) ]\n"
   ]
  },
  {
   "cell_type": "code",
   "execution_count": null,
   "metadata": {},
   "outputs": [],
   "source": []
  },
  {
   "cell_type": "code",
   "execution_count": null,
   "metadata": {},
   "outputs": [],
   "source": [
    "from itertools import combinations\n",
    "\n",
    "#Getting all combination of a particular length.\n",
    "combi = combinations(['p', 'y', 't', 'h', 'o', 'n'], 5)\n",
    "\n",
    "#Print the list of combinations\n",
    "\n",
    "for c in list(combi):\n",
    "    print(c)"
   ]
  },
  {
   "cell_type": "code",
   "execution_count": null,
   "metadata": {},
   "outputs": [],
   "source": [
    "from scipy import stats\n",
    "import numpy as np\n",
    "import math"
   ]
  },
  {
   "cell_type": "markdown",
   "metadata": {},
   "source": [
    "# Coeff of Variation"
   ]
  },
  {
   "cell_type": "markdown",
   "metadata": {},
   "source": [
    "The coefficient of variation is a statistical measure that represents the ratio of the standard deviation to the mean of a dataset. It is expressed as a percentage and is commonly used to compare the variability of two or more datasets that have different units or scales of measurement. It is calculated using the formula:\n",
    "\n",
    "coefficient of variation = (standard deviation / mean) x 100%\n",
    "\n",
    "A lower coefficient of variation indicates that the data has less variability and is more consistent, while a higher coefficient of variation indicates that the data has more variability and is less consistent."
   ]
  },
  {
   "cell_type": "markdown",
   "metadata": {},
   "source": [
    "### Q8. A study reports the monthly count of new subscribers of bloggers; Sheldon, Ross and Joey for a year. Find out who has more consistency in the number of new subscribers?"
   ]
  },
  {
   "cell_type": "markdown",
   "metadata": {},
   "source": [
    "sheldon_sub = [3, 5.1, 2.9, 3.7, 4.2, 4.2, 4.3, 5.2, 3.7, 4.4, 5.2, 3.4] <br>\n",
    "ross_sub = [4, 4.6, 3.1, 4.2, 5.4, 3.4, 5, 6.2, 4.2, 3.5, 4.1, 5.5] <br>\n",
    "joey_sub = [4.3, 4, 4.5, 5.1, 6, 5, 4.8, 5.4, 5.1, 6.4, 4.2, 3.4]\n"
   ]
  },
  {
   "cell_type": "code",
   "execution_count": 8,
   "metadata": {},
   "outputs": [],
   "source": [
    "import pandas as pd"
   ]
  },
  {
   "cell_type": "code",
   "execution_count": 9,
   "metadata": {},
   "outputs": [],
   "source": [
    "# given series of data\n",
    "sheldon_sub = pd.Series([3, 5.1, 2.9, 3.7, 4.2, 4.2, 4.3, 5.2, 3.7, 4.4, 5.2, 3.4])\n",
    "ross_sub = pd.Series([4, 4.6, 3.1, 4.2, 5.4, 3.4, 5, 6.2, 4.2, 3.5, 4.1, 5.5])\n",
    "joey_sub = pd.Series([4.3, 4, 4.5, 5.1, 6, 5, 4.8, 5.4, 5.1, 6.4, 4.2, 3.4])"
   ]
  },
  {
   "cell_type": "code",
   "execution_count": 18,
   "metadata": {},
   "outputs": [
    {
     "name": "stdout",
     "output_type": "stream",
     "text": [
      "4.108333333333333\n",
      "0.7993842327161274\n"
     ]
    },
    {
     "data": {
      "text/plain": [
       "19.45762838254265"
      ]
     },
     "execution_count": 18,
     "metadata": {},
     "output_type": "execute_result"
    }
   ],
   "source": [
    "# average new subscribers for sheldon\n",
    "sheldon_avg = sheldon_sub.mean()\n",
    "print(sheldon_avg)\n",
    "\n",
    "# standard deviation for sheldon\n",
    "sheldon_sd = sheldon_sub.std()\n",
    "print(sheldon_sd)\n",
    "\n",
    "# calculate c.v. of sheldon\n",
    "sheldon_cv = (sheldon_sd/sheldon_avg)*100\n",
    "sheldon_cv"
   ]
  },
  {
   "cell_type": "code",
   "execution_count": 19,
   "metadata": {},
   "outputs": [
    {
     "name": "stdout",
     "output_type": "stream",
     "text": [
      "4.433333333333334\n",
      "0.9374368665610922\n"
     ]
    },
    {
     "data": {
      "text/plain": [
       "21.145192478821624"
      ]
     },
     "execution_count": 19,
     "metadata": {},
     "output_type": "execute_result"
    }
   ],
   "source": [
    "# average new subscribers for ross\n",
    "ross_avg = ross_sub.mean()\n",
    "print(ross_avg)\n",
    "# # standard deviation for ross\n",
    "ross_sd = ross_sub.std()\n",
    "print(ross_sd)\n",
    "# # calculate c.v. of ross\n",
    "ross_cv = (ross_sd/ross_avg)*100\n",
    "ross_cv"
   ]
  },
  {
   "cell_type": "code",
   "execution_count": 21,
   "metadata": {},
   "outputs": [
    {
     "name": "stdout",
     "output_type": "stream",
     "text": [
      "4.85\n",
      "0.8447700063546075\n",
      "C.V. for Sheldon: 19.45762838254265\n",
      "C.V. for Ross: 21.145192478821624\n",
      "C.V. for Joey: 17.417938275352736\n"
     ]
    }
   ],
   "source": [
    "# average new subscribers for joey\n",
    "joey_avg = joey_sub.mean()\n",
    "print(joey_avg)\n",
    "# # standard deviation for joey\n",
    "joey_sd = joey_sub.std()\n",
    "print(joey_sd)\n",
    "# calculate c.v. of joey\n",
    "joey_cv = (joey_sd/joey_avg)*100\n",
    "\n",
    "# print the cv for each blogger\n",
    "print('C.V. for Sheldon:', sheldon_cv)\n",
    "print('C.V. for Ross:', ross_cv)\n",
    "print('C.V. for Joey:', joey_cv)"
   ]
  },
  {
   "cell_type": "code",
   "execution_count": 22,
   "metadata": {},
   "outputs": [],
   "source": [
    "def CV(s):\n",
    "    mu=s.mean()\n",
    "    sd=s.std()\n",
    "    return(sd/mu)*100"
   ]
  },
  {
   "cell_type": "code",
   "execution_count": 23,
   "metadata": {},
   "outputs": [
    {
     "name": "stdout",
     "output_type": "stream",
     "text": [
      "CV for sheldon is 19.45762838254265\n",
      "CV for ross is 21.145192478821624\n",
      "CV for joey is 17.417938275352736\n"
     ]
    }
   ],
   "source": [
    "# given series of data\n",
    "sheldon_sub = pd.Series([3, 5.1, 2.9, 3.7, 4.2, 4.2, 4.3, 5.2, 3.7, 4.4, 5.2, 3.4])\n",
    "ross_sub = pd.Series([4, 4.6, 3.1, 4.2, 5.4, 3.4, 5, 6.2, 4.2, 3.5, 4.1, 5.5])\n",
    "joey_sub = pd.Series([4.3, 4, 4.5, 5.1, 6, 5, 4.8, 5.4, 5.1, 6.4, 4.2, 3.4])\n",
    "\n",
    "print(\"CV for sheldon is\",CV(sheldon_sub))\n",
    "print(\"CV for ross is\",CV(ross_sub))\n",
    "print(\"CV for joey is\",CV(joey_sub))\n"
   ]
  },
  {
   "cell_type": "markdown",
   "metadata": {},
   "source": [
    "Based on the coefficient of variation (CV), we can conclude that Joey has more consistency in the number of new subscribers, as his CV is the lowest among the three bloggers."
   ]
  },
  {
   "cell_type": "markdown",
   "metadata": {},
   "source": [
    "# Bernoulli Distribution"
   ]
  },
  {
   "cell_type": "markdown",
   "metadata": {},
   "source": [
    "Bernoulli distribution is a discrete probability distribution that describes the probability of success or failure of a single independent experiment with a binary outcome. It is named after Swiss mathematician Jacob Bernoulli who introduced this concept in 1713.\n",
    "\n",
    "In a Bernoulli distribution, the random variable X can only take two values, 1 or 0, representing success or failure respectively. The probability of success, denoted by p, is constant for each trial and the probability of failure is (1-p). The distribution is defined by the following probability mass function:\n",
    "\n",
    "P(X = 1) = p\n",
    "P(X = 0) = 1 - p\n",
    "\n",
    "where 0 <= p <= 1.\n",
    "\n",
    "Some examples of Bernoulli distribution are coin toss, where a success is getting heads and a failure is getting tails, or a person passing or failing an exam, where a success is passing and a failure is failing."
   ]
  },
  {
   "cell_type": "markdown",
   "metadata": {},
   "source": [
    "### Q9. Consider titanic survival where surviving is the success and it's probability is 0.7. Generate it's PMF"
   ]
  },
  {
   "cell_type": "code",
   "execution_count": 24,
   "metadata": {},
   "outputs": [
    {
     "name": "stdout",
     "output_type": "stream",
     "text": [
      "PMF for Titanic Survival:\n",
      "Surviving: 0.70 \n",
      "Not surviving: 0.30\n"
     ]
    }
   ],
   "source": [
    "from scipy.stats import bernoulli\n",
    "\n",
    "# Probability of success (surviving)\n",
    "p = 0.7\n",
    "\n",
    "# Create a Bernoulli distribution object with p as the success probability\n",
    "dist = bernoulli(p)\n",
    "\n",
    "# Generate the PMF(Probability Mass Function) \n",
    "pmf = [dist.pmf(x) for x in [0, 1]]\n",
    "\n",
    "# Print the PMF\n",
    "print(\"PMF for Titanic Survival:\\nSurviving: {:.2f} \\nNot surviving: {:.2f}\".format(pmf[1], pmf[0]))\n"
   ]
  },
  {
   "cell_type": "markdown",
   "metadata": {},
   "source": [
    "Generate a random space having 100 values in a bernoulli distribution with p=0.75"
   ]
  },
  {
   "cell_type": "code",
   "execution_count": 27,
   "metadata": {},
   "outputs": [],
   "source": [
    "from scipy import stats"
   ]
  },
  {
   "cell_type": "code",
   "execution_count": 28,
   "metadata": {},
   "outputs": [
    {
     "data": {
      "text/plain": [
       "array([1, 0, 1, 0, 1, 1, 1, 1, 1, 1, 0, 1, 1, 0, 1, 1, 1, 0, 1, 1, 1, 1,\n",
       "       1, 1, 0, 1, 1, 0, 1, 1, 1, 0, 1, 0, 1, 0, 1, 1, 1, 0, 0, 1, 1, 1,\n",
       "       0, 1, 1, 1, 1, 0, 0, 1, 1, 1, 0, 0, 1, 1, 0, 0, 0, 1, 1, 1, 1, 1,\n",
       "       1, 1, 1, 1, 1, 1, 0, 1, 1, 1, 1, 1, 0, 0, 1, 0, 1, 0, 0, 1, 1, 1,\n",
       "       1, 1, 0, 1, 1, 1, 0, 1, 1, 1, 1, 0])"
      ]
     },
     "execution_count": 28,
     "metadata": {},
     "output_type": "execute_result"
    }
   ],
   "source": [
    "p=0.75\n",
    "rs=stats.bernoulli.rvs(p, size=100)\n",
    "rs"
   ]
  },
  {
   "cell_type": "markdown",
   "metadata": {},
   "source": [
    "This code generates a random sample of size 100 from a Bernoulli distribution with probability of success (getting 1) equal to 0.75. Each value in the output rs array is either 0 or 1, representing failure or success, respectively. The proportion of 1s in the array should be approximately equal to the specified probability of success (0.75 in this case)."
   ]
  },
  {
   "cell_type": "markdown",
   "metadata": {},
   "source": [
    "# Binomial Distribution"
   ]
  },
  {
   "cell_type": "markdown",
   "metadata": {},
   "source": [
    "The binomial distribution is a probability distribution that describes the number of successes in a fixed number of independent trials, each of which has the same probability of success. It is often used to model outcomes in situations where there are only two possible outcomes, such as success or failure, yes or no, or heads or tails.\n",
    "\n",
    "The key parameters of the binomial distribution are the number of trials (n) and the probability of success in each trial (p). The distribution gives the probability of getting k successes in n trials, and is given by the formula:\n",
    "\n",
    "P(k) = (n choose k) * p^k * (1-p)^(n-k)\n",
    "\n",
    "where (n choose k) is the binomial coefficient, which gives the number of ways of choosing k items from a set of n items.\n",
    "\n",
    "The binomial distribution has several important properties, including:\n",
    "\n",
    "It is discrete, meaning that it only takes on integer values.\n",
    "It is symmetrical if p=0.5, but becomes increasingly skewed as p moves away from 0.5.\n",
    "Its mean is given by np, and its variance is given by np(1-p)."
   ]
  },
  {
   "cell_type": "markdown",
   "metadata": {},
   "source": [
    "### Q10. Huge Fruit Basket (HFB) is a grocery shop that sells fruits. It is observed that 20% of their customers complain about the fruits purchased by them for many reasons (bad quality, foul smell and less quantity). On Friday, 30 customers purchased fruits from HFB."
   ]
  },
  {
   "cell_type": "markdown",
   "metadata": {},
   "source": [
    "- Calculate the probability that exactly 10 customers will complain about the purchased products.\n",
    "\n",
    "- Calculate the probability that maximum of 8 customers will complain about the fruits purchased by them.\n",
    "\n",
    "- Calculate the probability that more than 10 customers will complain about the fruits purchased by them.\n",
    "\n",
    "- Find the average number of customers who are likely to complain about the fruits. Also find the variance of the number of complaints."
   ]
  },
  {
   "cell_type": "raw",
   "metadata": {},
   "source": [
    "P(10) = (30 choose 10) * (0.2)^10 * (0.8)^20\n",
    "P(10) = (30!/(10!*(30-10)!)) * 0.0000001024 * 0.0115292150460688\n",
    "P(10) = 0.0354"
   ]
  },
  {
   "cell_type": "code",
   "execution_count": 29,
   "metadata": {
    "scrolled": true
   },
   "outputs": [
    {
     "name": "stdout",
     "output_type": "stream",
     "text": [
      "The probability that exactly 10 customers will complain is: 0.035470892953328774\n"
     ]
    }
   ],
   "source": [
    "# Calculate the probability \n",
    "# that exactly 10 customers will complain about the purchased products.\n",
    "\n",
    "\n",
    "from scipy.stats import binom\n",
    "\n",
    "n = 30  # total number of customers\n",
    "p = 0.2  # probability of a customer complaining\n",
    "x = 10  # number of customers who will complain\n",
    "\n",
    "# calculate the probability using the binomial distribution function\n",
    "P = binom.pmf(x, n, p)\n",
    "\n",
    "print(\"The probability that exactly 10 customers will complain is:\", P)\n"
   ]
  },
  {
   "cell_type": "markdown",
   "metadata": {},
   "source": [
    "calculate the probability mass function (PMF) of the binomial distribution with n trials and a probability of success p. The pmf method then calculates the probability of exactly x successes in n trials.\n",
    "\n",
    "\n",
    "\n"
   ]
  },
  {
   "cell_type": "code",
   "execution_count": 30,
   "metadata": {},
   "outputs": [
    {
     "name": "stdout",
     "output_type": "stream",
     "text": [
      "The probability that maximum of 8 customers will complain is: 0.8713492460859561\n"
     ]
    }
   ],
   "source": [
    "# Calculate the probability that maximum of 8 customers will complain\n",
    "# about the fruits purchased by them.\n",
    "\n",
    "from scipy.stats import binom\n",
    "#P(X<=8)\n",
    "\n",
    "n = 30  # total number of customers\n",
    "p = 0.2  # probability of a customer complaining\n",
    "max_complaints = 8  # maximum number of customers who can complain\n",
    "\n",
    "# calculate the probability using the binomial distribution CDF\n",
    "P = binom.cdf(max_complaints, n, p)\n",
    "\n",
    "print(\"The probability that maximum of 8 customers will complain is:\", P)\n",
    "\n",
    "\n",
    "# function calculates the cumulative distribution function (CDF) of the binomial distribution. "
   ]
  },
  {
   "cell_type": "markdown",
   "metadata": {},
   "source": []
  },
  {
   "cell_type": "code",
   "execution_count": 31,
   "metadata": {},
   "outputs": [
    {
     "name": "stdout",
     "output_type": "stream",
     "text": [
      "The probability that more than 10 customers will complain is: 0.02561625533532652\n"
     ]
    }
   ],
   "source": [
    "# Calculate the probability that \n",
    "# more than 10 customers will complain about the fruits purchased by them.\n",
    "\n",
    "from scipy.stats import binom\n",
    "\n",
    "n = 30  # total number of customers\n",
    "p = 0.2  # probability of a customer complaining\n",
    "max_complaints = 10  # maximum number of customers who can complain\n",
    "\n",
    "# calculate the probability using the binomial distribution CDF\n",
    "P = 1 - binom.cdf(max_complaints, n, p)\n",
    "\n",
    "print(\"The probability that more than 10 customers will complain is:\", P)\n"
   ]
  },
  {
   "cell_type": "markdown",
   "metadata": {},
   "source": [
    "We subtract from 1 because we want to calculate the probability that more than 10 customers will complain, and the CDF of the binomial distribution gives us the probability of all outcomes up to and including a certain number of successes.\n",
    "\n",
    "In other words, if we add up the probability of 0 to 10 customers complaining and subtract it from 1, we get the probability of 11 or more customers complaining.\n"
   ]
  },
  {
   "cell_type": "markdown",
   "metadata": {},
   "source": []
  },
  {
   "cell_type": "code",
   "execution_count": 32,
   "metadata": {},
   "outputs": [
    {
     "name": "stdout",
     "output_type": "stream",
     "text": [
      "The expected number of customers who will complain is: 6.0\n",
      "The variance of the number of complaints is: 4.800000000000001\n",
      "sd  2\n"
     ]
    }
   ],
   "source": [
    "# Find the average number of customers who are likely to complain about the fruits.\n",
    "# Also find the variance of the number of complaints.\n",
    "\n",
    "\n",
    "from scipy.stats import binom\n",
    "import  math\n",
    "\n",
    "n = 30  # total number of customers\n",
    "p = 0.2  # probability of a customer complaining\n",
    "\n",
    "# calculate the expected value using the binomial distribution\n",
    "E = binom.mean(n, p)\n",
    "\n",
    "# calculate the variance using the binomial distribution\n",
    "Var = binom.var(n, p)\n",
    "\n",
    "print(\"The expected number of customers who will complain is:\", E)\n",
    "print(\"The variance of the number of complaints is:\", Var)\n",
    "print(\"sd \", round(math.sqrt(Var)))\n"
   ]
  },
  {
   "cell_type": "markdown",
   "metadata": {},
   "source": [
    "# Poisson Distribution"
   ]
  },
  {
   "cell_type": "markdown",
   "metadata": {},
   "source": [
    "Poisson distribution is a probability distribution that describes the number of times an event occurs in a fixed interval of time or space, given the average rate of occurrence and the assumption that the events occur independently of each other.\n",
    "\n",
    "The Poisson distribution is characterized by a single parameter, λ (lambda), which represents the average number of occurrences in the given interval. The probability mass function of a Poisson distribution is given by:\n",
    "\n",
    "P(X = k) = (e^(-λ) * λ^k) / k!\n",
    "\n",
    "where X is the random variable representing the number of occurrences, k is a non-negative integer, and e is the mathematical constant approximately equal to 2.71828.\n",
    "\n",
    "The Poisson distribution is often used to model events that occur randomly and independently over time or space, such as the number of phone calls received by a call center per hour, the number of customers arriving at a store per day, or the number of defects in a product per unit of production. It is also used in various fields such as physics, genetics, and biology to describe the distribution of events or particles.\n",
    "\n",
    "\n",
    "\n"
   ]
  },
  {
   "cell_type": "markdown",
   "metadata": {},
   "source": [
    "### Q11. The number of customer returns in a retail chain per day follows a poisson distribution at a rate of 25 returns per day. Calculate the probability that the number of returns exceeds 30 in a day."
   ]
  },
  {
   "cell_type": "code",
   "execution_count": null,
   "metadata": {},
   "outputs": [],
   "source": [
    "from scipy.stats import poisson\n",
    "\n",
    "lamda = 25  # rate of customer returns per day\n",
    "\n",
    "# calculate the probability that X <= 30\n",
    "prob_less_than_or_equal_to_30 = poisson.cdf(30, lamda)\n",
    "\n",
    "# calculate the probability that X > 30\n",
    "prob_greater_than_30 = 1 - prob_less_than_or_equal_to_30\n",
    "\n",
    "print(\"The probability that the number \n",
    "      \"of returns exceeds 30 is:\", prob_greater_than_30)\n"
   ]
  },
  {
   "cell_type": "markdown",
   "metadata": {},
   "source": [
    "### Q12. The number of road accidents on the day follow Poisson distribution with mean equals to 3. What is the probability that on a day exactly 1 accident will happen?"
   ]
  },
  {
   "cell_type": "code",
   "execution_count": null,
   "metadata": {},
   "outputs": [],
   "source": [
    "from scipy.stats import poisson\n",
    "\n",
    "mean = 3  # mean number of accidents per day\n",
    "\n",
    "# calculate the probability that X = 1\n",
    "prob_one_accident = poisson.pmf(1, mean)\n",
    "\n",
    "print(\"The probability that exactly 1 accident will happen in a day is:\", prob_one_accident)\n"
   ]
  },
  {
   "cell_type": "markdown",
   "metadata": {},
   "source": [
    "In a Poisson distribution, the mean is equal to the parameter λ, which represents the average rate of occurrence of the event of interest over a given time interval. For example, in the case of road accidents, λ = 3 means that on average, three accidents occur per day."
   ]
  },
  {
   "cell_type": "markdown",
   "metadata": {},
   "source": [
    "### Q13. The number of trucks crossing a bridge during the day follow a Poisson distribution with mean 22. What is the probability that on a randomly selected day 14 trucks would have crossed the bridge?"
   ]
  },
  {
   "cell_type": "code",
   "execution_count": null,
   "metadata": {},
   "outputs": [],
   "source": [
    "from scipy.stats import poisson\n",
    "\n",
    "# mean number of trucks crossing the bridge per day\n",
    "mean = 22\n",
    "\n",
    "# probability that X = 14\n",
    "prob_14_trucks = poisson.pmf(14, mean)*100\n",
    "\n",
    "print(\"The probability that 14 trucks would \n",
    "      have crossed the bridge is:\", prob_14_trucks)\n"
   ]
  },
  {
   "cell_type": "markdown",
   "metadata": {},
   "source": [
    "# Normal Distribution"
   ]
  },
  {
   "cell_type": "markdown",
   "metadata": {},
   "source": [
    "The normal distribution is a continuous probability distribution that is commonly used to model real-world phenomena such as measurement errors, physical quantities, and biological characteristics. It is also known as the Gaussian distribution or the bell curve because of its characteristic bell-shaped curve.\n",
    "\n",
    "The normal distribution is defined by two parameters: the mean (μ) and the standard deviation (σ). The mean represents the central tendency of the distribution, and the standard deviation represents the spread of the distribution.\n",
    "\n",
    "The probability density function (PDF) of the normal distribution is given by:\n",
    "\n",
    "f(x) = (1 / (σ * sqrt(2π))) * e^(-((x-μ)^2) / (2σ^2))\n",
    "\n",
    "where x is a random variable, μ is the mean of the distribution, σ is the standard deviation of the distribution, π is the mathematical constant pi, and e is the base of the natural logarithm.\n",
    "\n",
    "The normal distribution is symmetric around the mean, and about 68% of the data falls within one standard deviation of the mean, about 95% of the data falls within two standard deviations of the mean, and about 99.7% of the data falls within three standard deviations of the mean. This makes it a very useful distribution for modeling and analyzing data in a wide range of fields, including finance, science, and engineering."
   ]
  },
  {
   "cell_type": "code",
   "execution_count": null,
   "metadata": {},
   "outputs": [],
   "source": [
    "# generates 100 random samples from a normal distribution with a mean of 7.35 \n",
    "# and a standard deviation of 0.35, using the rvs (random variable samples)\n",
    "# function from the stats module of the scipy library.\n",
    "\n",
    "# Each of the 100 samples represents a possible value \n",
    "# for the clotting time of blood, assuming a normal \n",
    "# distribution with the given mean and standard deviation. \n",
    "# The samples are randomly generated and are not necessarily \n",
    "# ordered or related to each other in any specific way.\n",
    "\n",
    "stats.norm.rvs(7.35,0.35,100)"
   ]
  },
  {
   "cell_type": "markdown",
   "metadata": {},
   "source": [
    "### Q14. Assume a normal distribution where the mean clotting time of blood is 7.35 seconds, with a standard deviation of 0.35 seconds. What is the probability that blood clotting time will be less than 7 seconds"
   ]
  },
  {
   "cell_type": "code",
   "execution_count": null,
   "metadata": {},
   "outputs": [],
   "source": [
    "# to find P(X<7)\n",
    "\n",
    "from scipy.stats import norm\n",
    "\n",
    "# mean clotting time\n",
    "mean = 7.35\n",
    "\n",
    "# standard deviation of clotting time\n",
    "std_dev = 0.35\n",
    "\n",
    "# probability that clotting time will be less than 7 seconds\n",
    "prob_less_than_7 = norm.cdf(7, mean, std_dev)\n",
    "\n",
    "print(\"The probability that blood clotting time will be less than 7 seconds is:\", prob_less_than_7)\n"
   ]
  },
  {
   "cell_type": "markdown",
   "metadata": {},
   "source": [
    "### Q15. Assume a normal distribution where the average size of the bass in a lake is 11.4 inches, with a standard deviation of 3.2 inches. Find the probability of catching a bass longer than 17 inches."
   ]
  },
  {
   "cell_type": "code",
   "execution_count": null,
   "metadata": {},
   "outputs": [],
   "source": [
    "\n",
    "# to find P(X>17)\n",
    "from scipy.stats import norm\n",
    "\n",
    "# mean size of bass in inches\n",
    "mean = 11.4\n",
    "\n",
    "# standard deviation of size of bass in inches\n",
    "std_dev = 3.2\n",
    "\n",
    "# probability of catching a bass longer than 17 inches\n",
    "prob_longer_than_17 = 1 - norm.cdf(17, mean, std_dev)\n",
    "\n",
    "print(\"The probability of catching a bass longer than 17 inches is:\", prob_longer_than_17)\n"
   ]
  },
  {
   "cell_type": "markdown",
   "metadata": {},
   "source": [
    "### Q16. The IQ of students follows normal distribution with mean 95 and variance 10. What is the probability that the any student selected at random will have IQ more than 102?"
   ]
  },
  {
   "cell_type": "code",
   "execution_count": null,
   "metadata": {},
   "outputs": [],
   "source": []
  },
  {
   "cell_type": "code",
   "execution_count": null,
   "metadata": {},
   "outputs": [],
   "source": []
  },
  {
   "cell_type": "code",
   "execution_count": null,
   "metadata": {},
   "outputs": [],
   "source": [
    "from scipy.stats import norm\n",
    "import math\n",
    "\n",
    "# mean IQ of students\n",
    "mean = 95\n",
    "\n",
    "# variance of IQ of students\n",
    "variance = 10\n",
    "\n",
    "# standard deviation of IQ of students\n",
    "std_dev = math.sqrt(variance)\n",
    "\n",
    "# probability of a student having IQ more than 102\n",
    "prob_more_than_102 = 1 - norm.cdf(102, mean, std_dev)\n",
    "\n",
    "print(\"The probability of a randomly selected student having IQ more than 102 is:\", prob_more_than_102)\n"
   ]
  },
  {
   "cell_type": "markdown",
   "metadata": {},
   "source": [
    "### Q17. A survey of daily travel time had these results (in minutes):\n",
    "\n",
    "26, 33, 65, 28, 34, 55, 25, 44, 50, 36, 26, 37, 43, 62, 35, 38, 45, 32, 28, 34"
   ]
  },
  {
   "cell_type": "code",
   "execution_count": null,
   "metadata": {},
   "outputs": [],
   "source": [
    "import pandas as pd\n",
    "\n",
    "data=pd.Series([26, 33, 65, 28, 34, 55, 25, 44, 50, 36, 26, 37, 43, 62, 35, 38, 45, 32, 28, 34])\n",
    "\n",
    "data_mean=data.mean()\n",
    "data_std=data.std()\n",
    "\n",
    "print(data_mean)\n",
    "print(data_std)\n",
    "\n",
    "sd_plus1=data_mean+data_std\n",
    "sd_minus1=data_mean-data_std\n",
    "\n",
    "print(\"68% of data will lie from \",sd_minus1, \" to \", sd_plus1)"
   ]
  },
  {
   "cell_type": "code",
   "execution_count": null,
   "metadata": {},
   "outputs": [],
   "source": [
    "SD_1=[]\n",
    "for i in data:\n",
    "    if ((i>=sd_minus1) & (i<=sd_plus1)):\n",
    "        SD_1.append(i)\n",
    "print(SD_1)"
   ]
  },
  {
   "cell_type": "code",
   "execution_count": null,
   "metadata": {},
   "outputs": [],
   "source": [
    "sd_plus2=data_mean+(2*data_std)\n",
    "sd_minus2=data_mean-(2*data_std)\n",
    "\n",
    "print(\"95% of data will lie from \",sd_minus2, \" to \", sd_plus2)"
   ]
  },
  {
   "cell_type": "code",
   "execution_count": null,
   "metadata": {},
   "outputs": [],
   "source": [
    "SD_2=[]\n",
    "for i in data:\n",
    "    if ((i>=sd_minus2) & (i<=sd_plus2)):\n",
    "        SD_2.append(i)\n",
    "\n",
    "print(SD_2)"
   ]
  },
  {
   "cell_type": "code",
   "execution_count": null,
   "metadata": {},
   "outputs": [],
   "source": [
    "sd_plus3=data_mean+(3*data_std)\n",
    "sd_minus3=data_mean-(3*data_std)\n",
    "\n",
    "print(\"99.7% of data will lie from \",sd_minus3, \" to \", sd_plus3)\n",
    "\n",
    "SD_3=[]\n",
    "for i in data:\n",
    "    if ((i>=sd_minus3) & (i<=sd_plus3)):\n",
    "        SD_3.append(i)\n",
    "\n",
    "print(SD_3)"
   ]
  },
  {
   "cell_type": "code",
   "execution_count": null,
   "metadata": {},
   "outputs": [],
   "source": [
    "outliers=[]\n",
    "for i in data:\n",
    "    if ((i<sd_minus3) | (i>sd_plus3)):\n",
    "        outliers.append(i)\n",
    "\n",
    "print(outliers)"
   ]
  },
  {
   "cell_type": "code",
   "execution_count": null,
   "metadata": {
    "scrolled": true
   },
   "outputs": [],
   "source": [
    "import seaborn as sns\n",
    "\n",
    "sns.distplot(data)"
   ]
  },
  {
   "cell_type": "markdown",
   "metadata": {},
   "source": [
    "A company makes parts for a machine. The lengths of the parts must be within certain limits or they will be rejected.\n",
    "\n",
    "A large number of parts were measured and the mean and standard deviation were calculated as 3.1 m and 0.005 m respectively.\n",
    "\n",
    "Assuming this data is normally distributed and 99.7% of the parts were accepted, what are the limits?"
   ]
  },
  {
   "cell_type": "code",
   "execution_count": null,
   "metadata": {
    "scrolled": true
   },
   "outputs": [],
   "source": [
    "mu=3.1\n",
    "std=0.005\n",
    "\n",
    "std_3=mu+(3*std)\n",
    "std_minus3=mu-(3*std)\n",
    "\n",
    "print(\"The acceptable range is:\",std_minus3, \" to \", std_3)"
   ]
  },
  {
   "cell_type": "markdown",
   "metadata": {},
   "source": [
    "# Normalization"
   ]
  },
  {
   "cell_type": "markdown",
   "metadata": {},
   "source": [
    "Normalization refers to the process of transforming a dataset into a standard format that can be used for analysis. Normalization techniques adjust the values of the features in a dataset so that they fall within a specific range or distribution. The main goal of normalization is to make it easier to compare different features within a dataset by putting them on a level playing field. Normalization can also help to prevent bias in machine learning algorithms, particularly when dealing with features that have different scales or units of measurement. Some common normalization techniques include min-max scaling, z-score scaling, and log transformation."
   ]
  },
  {
   "cell_type": "markdown",
   "metadata": {},
   "source": [
    "The formula for normalization depends on the specific normalization technique being used. Here are three common normalization techniques and their formulas:\n",
    "\n",
    "Min-Max Scaling: This technique scales the values in the dataset to fall within a specific range, typically between 0 and 1. The formula for min-max scaling is:\n",
    "\n",
    "x_norm = (x - x_min) / (x_max - x_min)\n",
    "\n",
    "where x is the original value, x_min is the minimum value in the dataset, x_max is the maximum value in the dataset, and x_norm is the normalized value.\n",
    "\n",
    "Z-Score Scaling: This technique scales the values in the dataset to have a mean of 0 and a standard deviation of 1. The formula for z-score scaling is:\n",
    "\n",
    "x_norm = (x - mean) / std\n",
    "\n",
    "where x is the original value, mean is the mean of the dataset, std is the standard deviation of the dataset, and x_norm is the normalized value.\n",
    "\n",
    "Log Transformation: This technique applies a logarithmic function to the values in the dataset to adjust their scale. The formula for log transformation is:\n",
    "\n",
    "x_norm = log(x)\n",
    "\n",
    "where x is the original value and x_norm is the normalized value."
   ]
  },
  {
   "cell_type": "code",
   "execution_count": null,
   "metadata": {},
   "outputs": [],
   "source": [
    "import numpy as np"
   ]
  },
  {
   "cell_type": "code",
   "execution_count": null,
   "metadata": {},
   "outputs": [],
   "source": [
    "tt=np.array([26, 33, 65, 28, 34, 55, 25, 44, 50, 36, 26, 37, 43, 62, 35, 38, 45, 32, 28, 34])\n",
    "\n",
    "# Normalization\n",
    "def normalize(data):\n",
    "    xmin=min(data)\n",
    "    xmax=max(data)\n",
    "    norm_data=[]\n",
    "    for i in data:\n",
    "        new_i=(i-xmin)/(xmax-xmin)\n",
    "        norm_data.append(new_i)\n",
    "    return norm_data"
   ]
  },
  {
   "cell_type": "code",
   "execution_count": null,
   "metadata": {},
   "outputs": [],
   "source": [
    "normalize(tt)"
   ]
  },
  {
   "cell_type": "code",
   "execution_count": null,
   "metadata": {},
   "outputs": [],
   "source": [
    "tt=[26, 33, 65, 28, 34, 55, 25, 44, 50, 36, 26, 37, 43, 62, 35, 38, 45, 32, 28, 34]\n",
    "\n",
    "def z_score(data):\n",
    "    data_mean=np.mean(data)\n",
    "    data_std=np.std(data)\n",
    "    \n",
    "    std_data=[]\n",
    "    for i in data:\n",
    "        new_i=(i-data_mean)/data_std\n",
    "        std_data.append(new_i)\n",
    "        \n",
    "    print(\"Mean is:\", data_mean)\n",
    "    print(\"Std is: \",data_std)\n",
    "    return std_data"
   ]
  },
  {
   "cell_type": "code",
   "execution_count": null,
   "metadata": {},
   "outputs": [],
   "source": [
    "z_score(tt)"
   ]
  },
  {
   "cell_type": "code",
   "execution_count": null,
   "metadata": {},
   "outputs": [],
   "source": [
    "# log\n",
    "def logvalue(data):\n",
    "    log_data=[]\n",
    "    for i in data:\n",
    "        \n",
    "        log_data.append(np.log(i))\n",
    "    return log_data\n",
    "\n",
    "logvalue(tt)"
   ]
  },
  {
   "cell_type": "code",
   "execution_count": null,
   "metadata": {},
   "outputs": [],
   "source": []
  },
  {
   "cell_type": "code",
   "execution_count": null,
   "metadata": {},
   "outputs": [],
   "source": [
    "a=z_score(tt)\n",
    "print(round(np.mean(a),5))\n",
    "print(round(np.std(a),5))"
   ]
  },
  {
   "cell_type": "code",
   "execution_count": null,
   "metadata": {},
   "outputs": [],
   "source": [
    "import seaborn as sns"
   ]
  },
  {
   "cell_type": "code",
   "execution_count": null,
   "metadata": {},
   "outputs": [],
   "source": [
    "sns.distplot(a)"
   ]
  },
  {
   "cell_type": "code",
   "execution_count": null,
   "metadata": {},
   "outputs": [],
   "source": []
  },
  {
   "cell_type": "markdown",
   "metadata": {},
   "source": [
    "### Q18. Calculate the mean and standard deviation and z-scores of these observations."
   ]
  },
  {
   "cell_type": "code",
   "execution_count": null,
   "metadata": {},
   "outputs": [],
   "source": [
    "data = [16.0, 16.0, 30.0, 37.0, 25.0, 22.0, 19.0, 35.0, 27.0, 32.0,\n",
    "34.0, 28.0, 24.0, 35.0, 24.0, 21.0, 32.0, 29.0, 24.0, 35.0,\n",
    "28.0, 29.0, 18.0, 31.0, 28.0, 33.0, 32.0, 24.0, 25.0, 22.0,\n",
    "21.0, 27.0, 41.0, 23.0, 23.0, 16.0, 24.0, 38.0, 26.0, 28.0]\n",
    "\n",
    "# find the mean\n",
    "print(\"Sample Mean: \", np.mean(data))\n",
    "\n",
    "# find the mean\n",
    "print(\"Sample Standard Deviation: \", np.std(data))\n",
    "\n",
    "data=np.array(data)\n",
    "data=data.reshape((len(data),1))"
   ]
  },
  {
   "cell_type": "code",
   "execution_count": null,
   "metadata": {},
   "outputs": [],
   "source": [
    "from sklearn.preprocessing import StandardScaler, MinMaxScaler\n",
    "\n",
    "scaler=StandardScaler()\n",
    "std_data=scaler.fit_transform(data)\n",
    "print(std_data)"
   ]
  },
  {
   "cell_type": "code",
   "execution_count": null,
   "metadata": {},
   "outputs": [],
   "source": [
    "scaler=MinMaxScaler()\n",
    "std_data=scaler.fit_transform(data)\n",
    "print(std_data)"
   ]
  },
  {
   "cell_type": "code",
   "execution_count": null,
   "metadata": {},
   "outputs": [],
   "source": [
    "sns.distplot(std_data)"
   ]
  },
  {
   "cell_type": "code",
   "execution_count": null,
   "metadata": {},
   "outputs": [],
   "source": []
  },
  {
   "cell_type": "markdown",
   "metadata": {},
   "source": [
    "## Hypothesis Testing"
   ]
  },
  {
   "cell_type": "markdown",
   "metadata": {},
   "source": [
    "Hypothesis testing is a statistical method used to determine whether an observed result or relationship between variables is statistically significant or just a result of chance.\n",
    "\n",
    "The process of hypothesis testing involves the following steps:\n",
    "\n",
    "1. Formulating a null hypothesis (H0): This is the hypothesis that there is no significant difference or relationship between the variables being studied. For example, if you are studying the effect of a new drug on blood pressure, the null hypothesis might be that the drug has no effect on blood pressure.\n",
    "\n",
    "2. Formulating an alternative hypothesis (Ha): This is the hypothesis that there is a significant difference or relationship between the variables being studied. For example, the alternative hypothesis for the drug study might be that the drug does lower blood pressure.\n",
    "\n",
    "3. Choosing a significance level: This is the level of confidence you require to reject the null hypothesis. Typically, a significance level of 0.05 (5%) is used.\n",
    "\n",
    "4. Collecting data: You collect data on the variables being studied.\n",
    "\n",
    "5. Analyzing the data: You use statistical methods to analyze the data and calculate the test statistic.\n",
    "\n",
    "6. Making a decision: You compare the test statistic to the critical value for your chosen significance level. If the test statistic falls outside the critical value, you reject the null hypothesis and accept the alternative hypothesis. If the test statistic falls within the critical value, you fail to reject the null hypothesis.\n",
    "\n",
    "7. Hypothesis testing is used in many areas of research, including medicine, psychology, economics, and more, to make decisions based on statistical evidence."
   ]
  },
  {
   "cell_type": "code",
   "execution_count": null,
   "metadata": {},
   "outputs": [],
   "source": []
  },
  {
   "cell_type": "markdown",
   "metadata": {},
   "source": [
    "# Q19 . Consider the following data does it follow a normal distribution?\n",
    "75, 97, 70, 25, 80, 40, 82, 72, 82, 46, 72, 64, 24, 66, 78, 34, 37,\n",
    "64, 75, 94, 76, 96, 88, 37, 29, 51, 67, 45, 69, 59, 81, 66, 30, 52,\n",
    "66, 85, 80, 74, 69, 83, 66, 84, 76, 73, 77, 85, 72, 71, 71, 75, 59,\n",
    "84, 65, 64, 86, 58, 85, 61, 79, 61, 68, 61, 60, 78, 76, 80, 57, 75"
   ]
  },
  {
   "cell_type": "code",
   "execution_count": null,
   "metadata": {},
   "outputs": [],
   "source": [
    "import pandas as pd"
   ]
  },
  {
   "cell_type": "code",
   "execution_count": null,
   "metadata": {},
   "outputs": [],
   "source": [
    "# create the data series\n",
    "data = pd.Series([75, 97, 70, 25, 80, 40, 82, 72, 82, 46, 72, 64, 24, 66, 78, 34, 37,\n",
    "                64, 75, 94, 76, 96, 88, 37, 29, 51, 67, 45, 69, 59, 81, 66, 30, 52,\n",
    "                66, 85, 80, 74, 69, 83, 66, 84, 76, 73, 77, 85, 72, 71, 71, 75, 59,\n",
    "                84, 65, 64, 86, 58, 85, 61, 79, 61, 68, 61, 60, 78, 76, 80, 57, 75])"
   ]
  },
  {
   "cell_type": "code",
   "execution_count": null,
   "metadata": {},
   "outputs": [],
   "source": [
    "\n",
    "sns.distplot(data)\n",
    "plt.show()"
   ]
  },
  {
   "cell_type": "markdown",
   "metadata": {},
   "source": [
    "Visually inspecting the histogram, we can see that the data is not perfectly normally distributed, but it is roughly symmetric and bell-shaped. However, to make a more definitive conclusion, we can perform a normality test using Python's Shapiro-Wilk test"
   ]
  },
  {
   "cell_type": "markdown",
   "metadata": {},
   "source": [
    "The null and alternate hypothesis of Shapiro-Wilk test are as follows:\n",
    "\n",
    "> H0: The data is normally distributed \n",
    "\n",
    "> Ha: The data is not normally distributed"
   ]
  },
  {
   "cell_type": "code",
   "execution_count": null,
   "metadata": {},
   "outputs": [],
   "source": [
    "from scipy.stats import shapiro\n",
    "\n",
    "stat, p = shapiro(data)\n",
    "\n",
    "print(\"Shapiro-Wilk test statistic:\", stat)\n",
    "print(\"p-value:\", p)\n"
   ]
  },
  {
   "cell_type": "markdown",
   "metadata": {},
   "source": [
    "The Shapiro-Wilk test is a statistical test that tests the null hypothesis that a given sample follows a normal distribution. The test returns a test statistic and a p-value.\n",
    "\n",
    "In this case, the test statistic is 0.9308 and the p-value is 0.00098. Since the p-value is less than 0.05 (commonly used significance level), we reject the null hypothesis and conclude that the data does not follow a normal distribution."
   ]
  },
  {
   "cell_type": "markdown",
   "metadata": {},
   "source": [
    "### Q20. Using Shapiro-Wilk Test, Tests whether a data sample has a Gaussian distribution.\n",
    "\n",
    "Assumptions\n",
    "\n",
    "Observations in each sample are independent and identically distributed (iid).\n",
    "\n",
    "Interpretation\n",
    "\n",
    "> H0: the sample has a Gaussian distribution.\n",
    "\n",
    "> H1: the sample does not have a Gaussian distribution."
   ]
  },
  {
   "cell_type": "code",
   "execution_count": null,
   "metadata": {},
   "outputs": [],
   "source": [
    "data = [16.0, 16.0, 30.0, 37.0, 25.0, 22.0, 19.0, 35.0, 27.0, 32.0,\n",
    "34.0, 28.0, 24.0, 35.0, 24.0, 21.0, 32.0, 29.0, 24.0, 35.0,\n",
    "28.0, 29.0, 18.0, 31.0, 28.0, 33.0, 32.0, 24.0, 25.0, 22.0,\n",
    "21.0, 27.0, 41.0, 23.0, 23.0, 16.0, 24.0, 38.0, 26.0, 28.0]\n",
    "\n",
    "stat, p = shapiro(data)\n",
    "\n",
    "print(\"The test statistic is\", stat,\"and its p-value is\",p)"
   ]
  },
  {
   "cell_type": "code",
   "execution_count": null,
   "metadata": {},
   "outputs": [],
   "source": [
    "sns.distplot(data)"
   ]
  },
  {
   "cell_type": "markdown",
   "metadata": {},
   "source": [
    "The Shapiro-Wilk test tests the null hypothesis that the data was drawn from a normal distribution. In this case, the test statistic is 0.9804 and the p-value is 0.7039, which indicates that the data does not significantly deviate from a normal distribution (since p > 0.05). Therefore, we can say that the data is normally distributed."
   ]
  },
  {
   "cell_type": "code",
   "execution_count": null,
   "metadata": {},
   "outputs": [],
   "source": []
  },
  {
   "cell_type": "markdown",
   "metadata": {},
   "source": [
    "## Pearson’s Correlation Coefficient\n",
    "\n",
    "Pearson's correlation coefficient is a measure of the linear relationship between two variables. It is denoted by the symbol \"r\" and ranges between -1 and 1, with 0 indicating no correlation, -1 indicating a perfect negative correlation (i.e., as one variable increases, the other decreases), and 1 indicating a perfect positive correlation (i.e., as one variable increases, the other increases).\n",
    "\n",
    "A Pearson correlation coefficient test is a statistical test used to determine whether there is a significant linear correlation between two variables. The test assesses the strength and direction of the relationship between two variables, and determines whether this relationship is statistically significant. This test assumes that the data are normally distributed and that the relationship between the two variables is linear. The null hypothesis is that there is no correlation between the two variables, and the alternative hypothesis is that there is a significant correlation. The test calculates a p-value, which is the probability of obtaining a correlation coefficient as extreme as the one observed in the sample, assuming that the null hypothesis is true. If the p-value is below a specified significance level (e.g., 0.05), the null hypothesis is rejected, and it is concluded that there is a significant correlation between the two variables."
   ]
  },
  {
   "cell_type": "markdown",
   "metadata": {},
   "source": [
    "\n",
    "## Q 21. Tests whether two samples have a linear relationship.\n",
    "\n",
    "Assumptions\n",
    "\n",
    "Observations in each sample are independent and identically distributed (iid).\n",
    "Observations in each sample are normally distributed.\n",
    "Observations in each sample have the same variance.\n",
    "\n",
    "\n",
    "Interpretation\n",
    "\n",
    "> H0: the two samples are independent.(NO LINEAR CORRELATION)\n",
    "\n",
    "> H1: there is a dependency between the samples. (LINEAR CORRELATION)"
   ]
  },
  {
   "cell_type": "code",
   "execution_count": null,
   "metadata": {},
   "outputs": [],
   "source": [
    "from scipy.stats import pearsonr\n",
    "data1 = [0.873, 2.817, 0.121, -0.945, -0.055, -1.436, 0.360, -1.478, -1.637, -1.869]\n",
    "data2 = [0.353, 3.517, 0.125, -7.545, -0.555, -1.536, 3.350, -1.578, -3.537, -1.579]\n",
    "\n",
    "\n",
    "stat, p = pearsonr(data1, data2)\n",
    "\n",
    "print(\"stat=\",stat, \"p-value=\", p)"
   ]
  },
  {
   "cell_type": "code",
   "execution_count": null,
   "metadata": {},
   "outputs": [],
   "source": [
    "import pandas as pd\n",
    "\n",
    "df1=pd.Series(data1)\n",
    "df2=pd.Series(data2)\n",
    "\n",
    "new_df=pd.concat([df1,df2], axis=1)\n",
    "new_df"
   ]
  },
  {
   "cell_type": "code",
   "execution_count": null,
   "metadata": {},
   "outputs": [],
   "source": [
    "new_df.corr(method=\"pearson\")"
   ]
  },
  {
   "cell_type": "markdown",
   "metadata": {},
   "source": [
    "The p-value indicates the probability of observing the correlation coefficient if there were no linear correlation between the two samples.\n",
    "\n",
    "the p-value is less than 0.05, which means that we reject the null hypothesis and conclude that there is a statistically significant linear correlation between the two samples. The correlation coefficient is 0.688, which suggests a moderate positive linear correlation between the two "
   ]
  },
  {
   "cell_type": "code",
   "execution_count": null,
   "metadata": {},
   "outputs": [],
   "source": []
  },
  {
   "cell_type": "code",
   "execution_count": null,
   "metadata": {},
   "outputs": [],
   "source": []
  },
  {
   "cell_type": "markdown",
   "metadata": {},
   "source": [
    "## One sample t-test "
   ]
  },
  {
   "cell_type": "markdown",
   "metadata": {},
   "source": [
    "A one-sample t-test is a statistical hypothesis test that is used to determine whether a sample mean is significantly different from a known or hypothesized population mean.\n",
    "\n",
    "In this test, a single sample is taken from a population and the sample mean is compared to a hypothesized population mean to see if the sample is significantly different from the population. The t-test calculates a t-value, which is a measure of how far the sample mean deviates from the hypothesized population mean, relative to the variability of the sample.\n",
    "\n",
    "The hypothesis being tested in a one-sample t-test is typically expressed as follows:\n",
    "\n",
    "Null hypothesis: The sample mean is equal to the hypothesized population mean.\n",
    "\n",
    "Alternative hypothesis: The sample mean is significantly different from the hypothesized population mean.\n",
    "\n",
    "If the calculated t-value is greater than the critical t-value for the given significance level and degrees of freedom, the null hypothesis is rejected, indicating that the sample mean is significantly different from the hypothesized population mean. If the calculated t-value is less than the critical t-value, the null hypothesis is not rejected, indicating that there is not enough evidence to conclude that the sample mean is significantly different from the hypothesized population mean.\n",
    "\n",
    "\n",
    "\n",
    "\n"
   ]
  },
  {
   "cell_type": "markdown",
   "metadata": {},
   "source": [
    "## Q. 22 You have the below ages and check whether avg age is 30 or not. "
   ]
  },
  {
   "cell_type": "markdown",
   "metadata": {},
   "source": [
    "\n",
    "\n",
    "> Null hypothesis: (m=30) The sample mean is equal to the hypothesized population mean.\n",
    "\n",
    "> Alternative hypothesis: (m!=30) The sample mean is significantly different from the hypothesized population mean."
   ]
  },
  {
   "cell_type": "code",
   "execution_count": null,
   "metadata": {},
   "outputs": [],
   "source": [
    "import scipy.stats as stats\n",
    "\n",
    "# Given ages\n",
    "ages = [32,34,29,29,22,39,38,37,38,36,30,26,22,22]\n",
    "\n",
    "# Hypothesized population mean\n",
    "mu = 30\n",
    "\n",
    "\n",
    "# Perform one-sample t-test\n",
    "t_statistic, p_value = stats.ttest_1samp(ages, mu)\n",
    "\n",
    "# Print results\n",
    "print(\"t-statistic:\", t_statistic)\n",
    "print(\"p-value:\", p_value)\n",
    "\n",
    "# Check if p-value is less than significance level (0.05)\n",
    "if p_value < 0.05:\n",
    "    print(\"Reject null hypothesis\")\n",
    "else:\n",
    "    print(\"Fail to reject null hypothesis\")\n",
    "\n"
   ]
  },
  {
   "cell_type": "markdown",
   "metadata": {},
   "source": [
    "calculated t-statistic is 0.597 and the p-value is 0.561, the conclusion remains the same that we fail to reject the null hypothesis at a significance level of 0.05, indicating that we cannot conclude that the average age of the given sample is significantly different from 30."
   ]
  },
  {
   "cell_type": "code",
   "execution_count": null,
   "metadata": {},
   "outputs": [],
   "source": []
  },
  {
   "cell_type": "code",
   "execution_count": null,
   "metadata": {},
   "outputs": [],
   "source": []
  },
  {
   "cell_type": "code",
   "execution_count": null,
   "metadata": {},
   "outputs": [],
   "source": []
  },
  {
   "cell_type": "code",
   "execution_count": null,
   "metadata": {},
   "outputs": [],
   "source": []
  },
  {
   "cell_type": "code",
   "execution_count": null,
   "metadata": {},
   "outputs": [],
   "source": []
  },
  {
   "cell_type": "markdown",
   "metadata": {},
   "source": [
    "## Q. 23 Systolic blood pressures of 14 patients are given below:\n",
    "\n",
    "183, 152, 178, 157, 194, 163, 144, 114, 178, 152, 118, 158, 172, 138\n",
    "\n",
    "Test, whether the population mean, is less than 165\n",
    "\n",
    "Hypothesis\n",
    "\n",
    "H0: There is no significant mean difference in systolic blood pressure. i.e., μ = 165\n",
    "\n",
    "H1: The population mean is less than 165. i.e., μ < 165"
   ]
  },
  {
   "cell_type": "code",
   "execution_count": null,
   "metadata": {},
   "outputs": [],
   "source": [
    "sys_bp=[183, 152, 178, 157, 194, 163, 144, 114, 178, 152, 118, 158, 172, 138]\n",
    "\n",
    "mu=165\n",
    "\n",
    "from scipy import stats\n",
    "\n",
    "t_value,p_value=stats.ttest_1samp(sys_bp,mu)\n",
    "print(p_value)"
   ]
  },
  {
   "cell_type": "code",
   "execution_count": null,
   "metadata": {},
   "outputs": [],
   "source": []
  },
  {
   "cell_type": "markdown",
   "metadata": {},
   "source": [
    "ClickDart is an e-commerce company. It claims that the product will be delivered within 30 days of placing the order. The data is given below that contains the delivery time of 40 products. The population mean is 30 and the population standard deviation of the delivery time is 12.5 days.\n",
    "\n",
    "data = [16.0, 16.0, 30.0, 37.0, 25.0, 22.0, 19.0, 35.0, 27.0, 32.0, 34.0, 28.0, 24.0, 35.0, 24.0, 21.0, 32.0, 29.0, 24.0, 35.0, 28.0, 29.0, 18.0, 31.0, 28.0, 33.0, 32.0, 24.0, 25.0, 22.0, 21.0, 27.0, 41.0, 23.0, 23.0, 16.0, 24.0, 38.0, 26.0, 28.0]"
   ]
  },
  {
   "cell_type": "markdown",
   "metadata": {},
   "source": [
    "Conduct a hypothesis test at significance level a = 0.05 to verify the claim made by the e-commerce company 'ClickDart'."
   ]
  },
  {
   "cell_type": "markdown",
   "metadata": {},
   "source": [
    "Let us first define the hypothesis. If m is population mean, that is; mean delivery time then\n",
    "\n",
    "H0 : m ≥ 30 <br>\n",
    "HA : m < 30"
   ]
  },
  {
   "cell_type": "code",
   "execution_count": null,
   "metadata": {},
   "outputs": [],
   "source": [
    "data = [16.0, 16.0, 30.0, 37.0, 25.0, 22.0, 19.0, 35.0, 27.0, 32.0,\n",
    "34.0, 28.0, 24.0, 35.0, 24.0, 21.0, 32.0, 29.0, 24.0, 35.0,\n",
    "28.0, 29.0, 18.0, 31.0, 28.0, 33.0, 32.0, 24.0, 25.0, 22.0,\n",
    "21.0, 27.0, 41.0, 23.0, 23.0, 16.0, 24.0, 38.0, 26.0, 28.0]\n",
    "\n",
    "# Population mean\n",
    "pop_mean = 30\n",
    "\n",
    "# Population Standard Deviation\n",
    "pop_std = 12.5\n",
    "\n",
    "# Sample mean\n",
    "sample_mean = np.mean(data)\n",
    "print(sample_mean)\n",
    "\n",
    "t_value,p_value=stats.ttest_1samp(data,30)\n",
    "print(p_value)"
   ]
  },
  {
   "cell_type": "markdown",
   "metadata": {},
   "source": [
    "Glitch Productions (GP) is a newly formed movie production house based out of Atlanta. GP was interested in understanding the production cost required for producing a Hollywood movie. The industry believes that the production house will require 70 million dollars on average. It is assumed that the Hollywood movie production cost follows a normal distribution. The production costs of 40 Hollywood movies in millions of dollars are given below.\n",
    "\n",
    "data = [81, 89, 53, 56, 77, 58, 78, 45, 62, 55, 72, 8, 10, 16, 8, 33, 36, 32, 66, 62, 48, 84, 67, 91, 62, 46, 89, 99, 92, 77, 29, 66, 44, 26, 66, 67,25, 35, 57, 63]\n",
    "\n",
    "\t\n",
    "Conduct an appropriate hypothesis test at a = 0.05 to check whether the belief about average production cost is correct.\n",
    "Let us first define the hypothesis. If m is population mean, that is, the production cost\n",
    "\n",
    "H0 : m = 70\n",
    "HA : m ≠ 70"
   ]
  },
  {
   "cell_type": "code",
   "execution_count": null,
   "metadata": {},
   "outputs": [],
   "source": [
    "data = [81, 89, 53, 56, 77, 58, 78, 45, 62, 55, 72, 8, 10,\n",
    "        16, 8, 33, 36, 32, 66, 62, 48, 84, 67, 91, 62, 46,\n",
    "        89, 99, 92, 77, 29, 66, 44, 26, 66, 67,25, 35, 57, 63]\n",
    "\n",
    "# Here we do not have population standard deviation. Thus, we will use One-Sample t-Test.\n",
    "stats.ttest_1samp(data, 70)"
   ]
  },
  {
   "cell_type": "markdown",
   "metadata": {},
   "source": [
    "The p-value is 0.0007. As the p-value is less than 0.05, we can conclude that the sample mean rejects that the production cost is equal to 70."
   ]
  },
  {
   "cell_type": "markdown",
   "metadata": {},
   "source": [
    "It has been claimed from past observations that the average diameter of bolts from a manufacturing process is 1.25 cm. Based on the collected sample of size 150, is there evidence to suggest that the average diameter is not 1.25 cm?\n",
    "<br>\n",
    "\n",
    "Diameter of bolts: 0.89, 1.39, 1.29, 1.36, 1.39, 1.44, 1.24, 0.82, 1.25, 0.85, 0.75, 1.34, 0.84, 1.27, 1.04, 1.36, 1.18, 1.49, 1.54, 0.83, 1.11, 1.14, 1.3 , 0.99, 1.21, 1.51, 1.02, 1.19, 1.05, 1.23, 0.76, 0.81, 0.92, 0.82, 1.64, 1.02, 1.61, 1.2, 1.17, 1.61, 1.23, 1.11, 1.17, 1.63, 1.33, 1.07, 0.94, 1.53, 1.38, 0.8 , 0.95, 1.4 , 1.09, 1.32, 1.43, 1.12, 1.2 , 0.94, 0.98, 1.54, 1.21, 1.4 , 1.13, 0.75, 1.02, 0.99, 1.49, 1.34, 1.57, 1.51, 1.42, 1.27, 0.78, 1.52, 1.5 , 1.13, 1.17, 1.17, 1.21, 1.14, 1.23, 1.46, 1.62, 1.11, 1.28, 1.25, 1.48, 0.76, 1.45, 1.38, 1.15, 0.95, 1.13, 1.24, 1.41, 1.38, 0.86, 1.39, 1.57, 1.32, 1.43, 1.55, 0.89, 1.06, 1.27, 1.46, 0.94, 1.53, 0.87, 1.47, 1.04, 1.12, 1.09, 1.45, 1.37, 1.18, 1.22, 1.29, 1.28, 1.59, 1.06, 1.49, 1.01, 1.31, 1.21, 1.32, 1.59, 0.85, 1.06, 0.82, 1.31, 1.32, 1.05, 1.6 , 0.87, 0.85, 1.13, 1.55, 1.15, 1.11, 1.58, 1.47, 1.52, 1.31, 1.16, 1.12, 0.85, 1.61, 1.42, 1.61\n",
    "\n",
    "Let\n",
    "X: diameter of the bolt <br>\n",
    "Thus μ: the average diameter of the bolts\n",
    "\n",
    "The hypothesis is<br>\n",
    "H0: The mean diameter of the bolts is equal to 1.25, i.e μ = 1.25<br>\n",
    "AGAINST<br>\n",
    "Ha: The mean diameter of the bolts is not equal to 1.25, , i.e μ ≠ 12.5"
   ]
  },
  {
   "cell_type": "code",
   "execution_count": null,
   "metadata": {},
   "outputs": [],
   "source": [
    "# create a series of the observations\n",
    "diameter_cm = pd.Series(\n",
    "    [0.89, 1.39, 1.29, 1.36, 1.39, 1.44, 1.24, 0.82, 1.25, 0.85, 0.75, 1.34, 0.84, 1.27, 1.04, 1.36, 1.18, \n",
    "    1.49, 1.54, 0.83, 1.11, 1.14, 1.3 , 0.99, 1.21, 1.51, 1.02, 1.19, 1.05, 1.23, 0.76, 0.81, 0.92, 0.82, \n",
    "    1.64, 1.02, 1.61, 1.2, 1.17, 1.61, 1.23, 1.11, 1.17, 1.63, 1.33, 1.07, 0.94, 1.53, 1.38, 0.8 , 0.95, \n",
    "    1.4 , 1.09, 1.32, 1.43, 1.12, 1.2 , 0.94, 0.98, 1.54, 1.21, 1.4 , 1.13, 0.75, 1.02, 0.99, 1.49, 1.34, \n",
    "    1.57, 1.51, 1.42, 1.27, 0.78, 1.52, 1.5 , 1.13, 1.17, 1.17, 1.21, 1.14, 1.23, 1.46, 1.62, 1.11, 1.28, \n",
    "    1.25, 1.48, 0.76, 1.45, 1.38, 1.15, 0.95, 1.13, 1.24, 1.41, 1.38, 0.86, 1.39, 1.57, 1.32, 1.43, 1.55, \n",
    "    0.89, 1.06, 1.27, 1.46, 0.94, 1.53, 0.87, 1.47, 1.04, 1.12, 1.09, 1.45, 1.37, 1.18, 1.22, 1.29, 1.28, \n",
    "    1.59, 1.06, 1.49, 1.01, 1.31, 1.21, 1.32, 1.59, 0.85, 1.06, 0.82, 1.31, 1.32, 1.05, 1.6 , 0.87, 0.85, \n",
    "    1.13, 1.55, 1.15, 1.11, 1.58, 1.47, 1.52, 1.31, 1.16, 1.12, 0.85, 1.61, 1.42, 1.61])\n",
    "\n",
    "# import the library\n",
    "from statsmodels.stats import weightstats as stests\n",
    "\n",
    "# conduct the test\n",
    "stests.ztest(diameter_cm, value = 1.25)"
   ]
  },
  {
   "cell_type": "markdown",
   "metadata": {},
   "source": [
    "Since the p-value (0.187) is more than 0.05 (level of significance), hence we accept H0.\n",
    "We may conclude that the average diameter is 1.25 cm."
   ]
  },
  {
   "cell_type": "markdown",
   "metadata": {},
   "source": [
    "Two sampled t-test\n",
    "Tests whether the means of two independent samples are significantly different.\n",
    "\n",
    "Assumptions\n",
    "\n",
    "- Observations in each sample are independent and identically distributed (iid).\n",
    "- Observations in each sample are normally distributed.\n",
    "- Observations in each sample have the same variance.\n",
    "\n",
    "\n",
    "Interpretation\n",
    "\n",
    "H0: the means of the samples are equal.\n",
    "\n",
    "H1: the means of the samples are unequal."
   ]
  },
  {
   "cell_type": "code",
   "execution_count": null,
   "metadata": {},
   "outputs": [],
   "source": [
    "import scipy"
   ]
  },
  {
   "cell_type": "code",
   "execution_count": null,
   "metadata": {},
   "outputs": [],
   "source": [
    "from scipy import stats"
   ]
  },
  {
   "cell_type": "code",
   "execution_count": null,
   "metadata": {},
   "outputs": [],
   "source": [
    "import numpy as np\n",
    "from scipy.stats import ttest_ind\n",
    "data1 = [0.873, 2.817, 0.121, -0.945, -0.055, -1.436, 0.360, -1.478, -1.637, -1.869]\n",
    "\n",
    "data2 = [1.142, -0.432, -0.938, -0.729, -0.846, -0.157, 0.500, 1.183, -1.075, -0.169]\n",
    "\n",
    "print(np.mean(data1))\n",
    "print(np.mean(data2))"
   ]
  },
  {
   "cell_type": "code",
   "execution_count": null,
   "metadata": {},
   "outputs": [],
   "source": [
    "stat, p = ttest_ind(data1, data2)\n",
    "print(p)"
   ]
  },
  {
   "cell_type": "markdown",
   "metadata": {},
   "source": [
    "Compare the effectiveness of ammonium chloride and urea, on the grain yield of paddy, an experiment was conducted. The results are given below:\n",
    "\n",
    "Ammonium chloride (X1)\t13.4\t10.9\t11.2\t11.8\t14\t15.3\t14.2\t12.6\t17\t16.2\t16.5\t15.7\n",
    "\n",
    "Urea (X2)\t12\t11.7\t10.7\t11.2\t14.8\t14.4\t13.9\t13.7\t16.9\t16\t15.6\t16"
   ]
  },
  {
   "cell_type": "markdown",
   "metadata": {},
   "source": [
    "Hypothesis\n",
    "\n",
    "H0: The effect of ammonium chloride and urea on grain yield of paddy are equal i.e., μ1 = μ2\n",
    "\n",
    "H1: The effect of ammonium chloride and urea on grain yield of paddy is not equal i.e., μ1 ≠ μ2"
   ]
  },
  {
   "cell_type": "code",
   "execution_count": null,
   "metadata": {},
   "outputs": [],
   "source": [
    "Ammonium_chloride=[13.4,10.9,11.2,11.8,14,15.3,14.2,12.6,17,16.2,16.5,15.7]\n",
    "Urea=[12,11.7,10.7,11.2,14.8,14.4,13.9,13.7,16.9,16,15.6,16]\n",
    "\n",
    "t_value,p_value=ttest_ind(Ammonium_chloride,Urea)\n",
    "print(p_value)"
   ]
  },
  {
   "cell_type": "markdown",
   "metadata": {},
   "source": [
    "Paired Student’s t-test\n",
    "Tests whether the means of two paired samples are significantly different.\n",
    "\n",
    "Assumptions\n",
    "\n",
    "Observations in each sample are independent and identically distributed (iid).\n",
    "Observations in each sample are normally distributed.\n",
    "Observations in each sample have the same variance.\n",
    "Observations across each sample are paired.\n",
    "\n",
    "\n",
    "Interpretation\n",
    "\n",
    "H0: the means of the samples are equal.\n",
    "\n",
    "H1: the means of the samples are unequal."
   ]
  },
  {
   "cell_type": "code",
   "execution_count": null,
   "metadata": {},
   "outputs": [],
   "source": [
    "from scipy.stats import ttest_rel\n",
    "\n",
    "data1 = [0.873, 2.817, 0.121, -0.945, -0.055, -1.436, 0.360, -1.478, -1.637, -1.869]\n",
    "data2 = [1.142, -0.432, -0.938, -0.729, -0.846, -0.157, 0.500, 1.183, -1.075, -0.169]\n",
    "stat, p = ttest_rel(data1, data2)\n",
    "print(p)"
   ]
  },
  {
   "cell_type": "markdown",
   "metadata": {},
   "source": [
    "Eleven schoolboys were given a test in Statistics. They were given a Month’s tuition and a second test were held at the end of it. Do the marks give evidence that the students have benefited from the exam coaching?\n",
    "\n",
    "Marks in 1st test: 23 20 19 21 18 20 18 17 23 16 19\n",
    "\n",
    "Marks in 2nd test: 24 19 22 18 20 22 20 20 23 20 18\n",
    "    \n",
    "Hypothesis\n",
    "\n",
    "H0: The students have not benefited from the tuition class. i.e., d = 0\n",
    "\n",
    "H1: The students have benefited from the tuition class. i.e., d < 0\n",
    "\n",
    "Where, d = x-y; d is the difference between marks in the first test (say x) and marks in the second test (say y).    "
   ]
  },
  {
   "cell_type": "code",
   "execution_count": null,
   "metadata": {},
   "outputs": [],
   "source": [
    "first_test =[23, 20, 19, 21, 18, 20, 18, 17, 23, 16, 19]\n",
    "second_test=[24, 19, 22, 18, 20, 22, 20, 20, 23, 20, 18]\n",
    "\n",
    "t_value,p_value=ttest_rel(first_test,second_test)\n",
    "print(p_value)"
   ]
  },
  {
   "cell_type": "markdown",
   "metadata": {},
   "source": [
    "<table align=\"left\">\n",
    "    <tr>\n",
    "        <td width=\"6%\">\n",
    "            <img src=\"scala_q.png\">\n",
    "        </td>\n",
    "        <td>\n",
    "            <div align=\"left\", style=\"font-size:120%\">\n",
    "                <font color=\"#21618C\">\n",
    "                    <b>Tesco Pharma claims to have produced a new drug which reduces the systolic Blood Pressure after usage of a week.\n",
    "\n",
    "The BP of 8 patients are recorded before medication and after medication. Do the data suggest that the drug is effective in reducing the systolic blood pressure?\n",
    "</b>\n",
    "                </font>\n",
    "            </div>\n",
    "        </td>\n",
    "    </tr>\n",
    "</table>\n",
    "\n",
    "<table>\n",
    "    <tr>\n",
    "        <th>Before</th>\t\n",
    "            <th>After</th>\n",
    "            </tr>\n",
    "    <tr>\n",
    "        <td>90</td>\n",
    "        <td>85</td>\n",
    "    </tr>\n",
    "    <tr>\n",
    "        <td>85</td>\n",
    "        <td>87</td>\n",
    "    </tr>\n",
    "    <tr>\n",
    "        <td>78</td>\n",
    "        <td>82</td>\n",
    "    </tr>\n",
    "     <tr>\n",
    "        <td>88</td>\n",
    "        <td>83</td>\n",
    "    </tr>\n",
    "    <tr>\n",
    "        <td>90</td>\n",
    "        <td>82</td>\n",
    "    </tr>\n",
    "    <tr>\n",
    "        <td>100</td>\n",
    "        <td>99</td>\n",
    "    </tr>\n",
    "    <tr>\n",
    "        <td>92</td>\n",
    "        <td>94</td>\n",
    "    </tr>\n",
    "    <tr>\n",
    "        <td>81</td>\n",
    "        <td>78</td>\n",
    "    </tr>\n",
    "       </table>\n"
   ]
  },
  {
   "cell_type": "markdown",
   "metadata": {},
   "source": [
    "H0: The average BP after medication is less than average BP before medication <br>\n",
    "H1: The average BP after medication is greater than average BP before medication"
   ]
  },
  {
   "cell_type": "code",
   "execution_count": null,
   "metadata": {},
   "outputs": [],
   "source": [
    "# create the data\n",
    "# score before training\n",
    "import pandas as pd\n",
    "BP_before = pd.Series([90, 85, 78, 88, 90, 100, 92, 81])\n",
    "\n",
    "# score after training\n",
    "BP_after = pd.Series([85, 87, 82, 83, 82, 99, 94, 78])\n",
    "\n",
    "# conduct the paired t-test\n",
    "stat,p_value=ttest_rel(BP_before, BP_after)\n",
    "print(p_value)"
   ]
  },
  {
   "cell_type": "markdown",
   "metadata": {},
   "source": [
    "Since the p-value (0.277) is more than 0.05 (level of significance), hence we accept H0.\n",
    "We may conclude that the medication is effective."
   ]
  },
  {
   "cell_type": "markdown",
   "metadata": {},
   "source": [
    "A researcher at BioSeed limited, claims to have modified the existing seed. The yeild for the two types of seeds is recorded for 10 equally sized farms. Is there enough evidence to claim that the there is no difference in the yeild due to the seed type?\n",
    "Yield due to Ordinary Seed: 450, 340, 562, 563, 234, 546, 876, 649, 736, 745\n",
    "\n",
    "Yield due to Modified Seed: 345, 576, 675, 674, 865, 457, 776, 567, 568, 753"
   ]
  },
  {
   "cell_type": "code",
   "execution_count": null,
   "metadata": {},
   "outputs": [],
   "source": [
    "# create the data series\n",
    "# yield due to Ordinary Seed\n",
    "ordinary_seed = pd.Series([450, 340, 562, 563, 234, 546, 876, 649, 736, 745])\n",
    "\n",
    "# yield due to Modified Seed\n",
    "modified_seed = pd.Series([345, 576, 675, 674, 865, 457, 776, 567, 568, 753])\n",
    "\n",
    "# conduct the paired t-test\n",
    "stat,pval=ttest_ind(ordinary_seed, modified_seed)\n",
    "print(pval/2)"
   ]
  },
  {
   "cell_type": "code",
   "execution_count": null,
   "metadata": {},
   "outputs": [],
   "source": []
  },
  {
   "cell_type": "markdown",
   "metadata": {},
   "source": [
    "Suppose a botanist wants to know if the mean height of a certain species of plant is equal to 15 inches. She collects a random sample of 12 plants and records each of their heights in inches.\n",
    "\n",
    "data = [14, 14, 16, 13, 12, 17, 15, 14, 15, 13, 15, 14]"
   ]
  },
  {
   "cell_type": "code",
   "execution_count": null,
   "metadata": {},
   "outputs": [],
   "source": [
    "from scipy.stats import ttest_1samp\n",
    "data = [14, 14, 16, 13, 12, 17, 15, 14, 15, 13, 15, 14]\n",
    "\n",
    "# Here we do not have population standard deviation. Thus, we will use One-Sample t-Test.\n",
    "stat,pval=ttest_1samp(data, 15)\n",
    "print(pval/2)"
   ]
  },
  {
   "cell_type": "markdown",
   "metadata": {},
   "source": [
    "Suppose we want to know whether a certain study program significantly impacts student performance on a particular exam. To test this, we have 15 students in a class take a pre-test. Then, we have each of the students participate in the study program for two weeks. Then, the students retake a test of similar difficulty.\n",
    "\n",
    "pre = [88, 82, 84, 93, 75, 78, 84, 87, 95, 91, 83, 89, 77, 68, 91]\n",
    "\n",
    "post = [91, 84, 88, 90, 79, 80, 88, 90, 90, 96, 88, 89, 81, 74, 92]\n"
   ]
  },
  {
   "cell_type": "markdown",
   "metadata": {},
   "source": [
    "Researchers want to know whether or not two different species of plants have the same mean height. To test this, they collect a simple random sample of 20 plants from each species.\n",
    "\n",
    "group1 = np.array([14, 15, 15, 16, 13, 8, 14, 17, 16, 14, 19, 20, 21, 15, 15, 16, 16, 13, 14, 12])\n",
    "\n",
    "group2 = np.array([15, 17, 14, 17, 14, 8, 12, 19, 19, 14, 17, 22, 24, 16, 13, 16, 13, 18, 15, 13])"
   ]
  },
  {
   "cell_type": "code",
   "execution_count": null,
   "metadata": {},
   "outputs": [],
   "source": []
  },
  {
   "cell_type": "markdown",
   "metadata": {},
   "source": [
    "**One Sample Z-Test in Python**\n",
    "\n",
    "Suppose the IQ in a certain population is normally distributed with a mean of μ = 100 and standard deviation of σ = 15.\n",
    "\n",
    "A researcher wants to know if a new drug affects IQ levels, so he recruits 20 patients to try it and records their IQ levels.\n",
    "\n",
    "data = [88, 92, 94, 94, 96, 97, 97, 97, 99, 99,\n",
    "        105, 109, 109, 109, 110, 112, 112, 113, 114, 115]\n",
    "        \n",
    "H0 : The new drug has no effect on the mean IQ level\n",
    "\n",
    "H1 : The new drug has a significant effect on the mean IQ level"
   ]
  },
  {
   "cell_type": "code",
   "execution_count": null,
   "metadata": {},
   "outputs": [],
   "source": [
    "from statsmodels.stats.weightstats import ztest \n",
    "\n",
    "#enter IQ levels for 20 patients\n",
    "data = [88, 92, 94, 94, 96, 97, 97, 97, 99, 99,\n",
    "        105, 109, 109, 109, 110, 112, 112, 113, 114, 115]\n",
    "\n",
    "#perform one sample z-test\n",
    "stat,p_value=ztest(data, value=100)\n",
    "print(p_value)"
   ]
  },
  {
   "cell_type": "markdown",
   "metadata": {},
   "source": [
    "**Two Sample Z-Test in Python**\n",
    "\n",
    "Suppose the IQ levels among individuals in two different cities are known to be normally distributed with known standard deviations.\n",
    "\n",
    "A researcher wants to know if the mean IQ level between individuals in city A and city B are different, so she selects a simple random sample of  20 individuals from each city and records their IQ levels.\n",
    "\n",
    "cityA = [82, 84, 85, 89, 91, 91, 92, 94, 99, 99,\n",
    "         105, 109, 109, 109, 110, 112, 112, 113, 114, 114]\n",
    "\n",
    "cityB = [90, 91, 91, 91, 95, 95, 99, 99, 108, 109,\n",
    "         109, 114, 115, 116, 117, 117, 128, 129, 130, 133]\n",
    "         \n",
    "H0 : The mean IQ levels of individuals in both cities are equal\n",
    "\n",
    "H1 : The mean IQ levels of individuals in both cities are significantly different"
   ]
  },
  {
   "cell_type": "code",
   "execution_count": null,
   "metadata": {},
   "outputs": [],
   "source": [
    "from statsmodels.stats.weightstats import ztest\n",
    "\n",
    "#enter IQ levels for 20 individuals from each city\n",
    "cityA = [82, 84, 85, 89, 91, 91, 92, 94, 99, 99,\n",
    "         105, 109, 109, 109, 110, 112, 112, 113, 114, 114]\n",
    "\n",
    "cityB = [90, 91, 91, 91, 95, 95, 99, 99, 108, 109,\n",
    "         109, 114, 115, 116, 117, 117, 128, 129, 130, 133]\n",
    "\n",
    "#perform two sample z-test\n",
    "stat,p_value=ztest(cityA, cityB) \n",
    "print(p_value)"
   ]
  },
  {
   "cell_type": "markdown",
   "metadata": {},
   "source": [
    "## One-Way ANOVA \n",
    "\n",
    "One-way ANOVA is a statistical test used to compare the means of three or more groups of data. It helps us to determine whether there are any significant differences between the means of these groups.\n",
    "\n",
    "To conduct a one-way ANOVA, we calculate the variance within each group and the variance between the groups. If the variance between the groups is greater than the variance within the groups, it suggests that there are significant differences between at least two of the groups."
   ]
  },
  {
   "cell_type": "markdown",
   "metadata": {},
   "source": [
    "\n",
    "## Q. A researcher recruits 30 students to participate in a study. The students are randomly assigned to use one of three studying techniques for the next two weeks to prepare for an exam. At the end of the two weeks, all of the students take the same test. \n",
    "\n",
    "A one-way ANOVA uses the following null and alternative hypotheses:\n",
    "\n",
    "> H0 (null hypothesis): μ1 = μ2 = μ3 = … = μk (all the population means are equal)\n",
    "\n",
    "> H1 (alternate hypothesis): at least one population mean is different from the rest"
   ]
  },
  {
   "cell_type": "code",
   "execution_count": null,
   "metadata": {},
   "outputs": [],
   "source": [
    "import pandas as pd\n",
    "import numpy as np\n",
    "\n",
    "#H0:The studying techniques have no effect on the scores obtained in the test\n",
    "#H1:The studying techniques have an effect on the scores obtained in the test\n",
    "\n",
    "#enter exam scores for each group\n",
    "group1 = [85, 86, 88, 75, 78, 94, 98, 79, 71, 80]\n",
    "group2 = [91, 92, 93, 85, 87, 84, 82, 88, 95, 96]\n",
    "group3 = [79, 78, 88, 94, 92, 85, 83, 85, 82, 81]\n",
    "\n",
    "from scipy.stats import f_oneway\n",
    "\n",
    "#perform one-way ANOVA\n",
    "stat,p_value=f_oneway(group1, group2, group3)\n",
    "print(stat,p_value)"
   ]
  },
  {
   "cell_type": "markdown",
   "metadata": {},
   "source": [
    "The output will provide two values: the F-statistic and the p-value. The F-statistic measures the ratio of the variation between the groups to the variation within the groups. A higher F-statistic indicates greater differences between the group means. The p-value is the probability of obtaining an F-statistic as extreme or more extreme than the observed value, assuming that the null hypothesis is true.\n",
    "\n",
    "If the p-value is less than the chosen significance level (usually 0.05), then we can reject the null hypothesis and conclude that at least one of the population means is significantly different from the rest. If the p-value is greater than the significance level, we fail to reject the null hypothesis and conclude that there is not enough evidence to suggest that the studying techniques have an effect on the scores obtained in the test.\n",
    "\n",
    "\n",
    "\n"
   ]
  },
  {
   "cell_type": "code",
   "execution_count": null,
   "metadata": {
    "scrolled": true
   },
   "outputs": [],
   "source": [
    "#We are trying to measure the performance of the cars based on the \n",
    "#different engine being used to identify if there is an impact \n",
    "#of type of oil on the performance.\n",
    "\n",
    "#H0: There is no impact of type of oil on the performance of the cars\n",
    "#H1: There is an impact of type of oil on the performance of the cars\n",
    "\n",
    "#H0: m1=m2=m3=m4\n",
    "#H1: atleast one group shows mean difference\n",
    "\n",
    "# Performance when each of the engine oil is applied\n",
    "performance1 = [89, 89, 88, 78, 79]\n",
    "performance2 = [93, 92, 94, 89, 88]\n",
    "performance3 = [89, 88, 89, 93, 90]\n",
    "performance4 = [81, 78, 81, 92, 82]\n",
    " \n",
    "# Conduct the one-way ANOVA\n",
    "f_oneway(performance1, performance2, performance3, performance4)"
   ]
  },
  {
   "cell_type": "markdown",
   "metadata": {},
   "source": [
    "## Two Way Anova\n",
    "\n",
    "Two-way ANOVA (Analysis of Variance) is a statistical method used to determine the effects of two categorical independent variables (factors) on a continuous dependent variable (outcome).\n",
    "\n",
    "In two-way ANOVA, the dependent variable is analyzed for variance due to two factors (A and B) and their interactions. The factors could be any two categorical variables, such as gender and age group or treatment type and time point. The goal of two-way ANOVA is to determine whether there is a significant difference in the means of the dependent variable across the levels of each factor and their interactions.\n",
    "\n",
    "To perform a two-way ANOVA, the data must meet certain assumptions, including independence, normality, and equal variance. The analysis involves calculating the sum of squares for each factor and their interaction and dividing them by their respective degrees of freedom to obtain the mean squares. Then, the F-statistic is calculated by dividing the mean squares for each factor and their interaction by the mean squares within groups. The F-statistic is compared to a critical value based on the degrees of freedom and the chosen level of significance.\n",
    "\n",
    "If the F-statistic is greater than the critical value, then there is evidence of a significant main effect or interaction effect. In this case, post-hoc tests such as Tukey's HSD or Bonferroni correction can be used to determine which groups differ significantly."
   ]
  },
  {
   "cell_type": "markdown",
   "metadata": {},
   "source": [
    "\n",
    "## Q. A botanist wants to know whether or not plant growth is influenced by sunlight exposure and watering frequency. She plants 30 seeds and lets them grow for two months under different conditions for sunlight exposure and watering frequency. After two months, she records the height of each plant, in inches.\n",
    "\n",
    "Perform a two-way ANOVA to determine if watering frequency and sunlight exposure have a significant effect on plant growth, and to determine if there is any interaction effect between watering frequency and sunlight exposure."
   ]
  },
  {
   "cell_type": "markdown",
   "metadata": {},
   "source": [
    "First, we’ll create a pandas DataFrame that contains the following three variables:\n",
    "\n",
    "water: how frequently each plant was watered: daily or weekly\n",
    "        \n",
    "sun: how much sunlight exposure each plant received: low, medium, or high\n",
    "        \n",
    "height: the height of each plant (in inches) after two months"
   ]
  },
  {
   "cell_type": "code",
   "execution_count": null,
   "metadata": {},
   "outputs": [],
   "source": [
    "import numpy as np\n",
    "import pandas as pd\n",
    "\n",
    "#create data\n",
    "df = pd.DataFrame({'water': np.repeat(['daily', 'weekly'], 15),\n",
    "                   'sun': np.tile(np.repeat(['low', 'med', 'high'], 5), 2),\n",
    "                   'height': [6, 6, 6, 5, 6, 5, 5, 6, 4, 5,\n",
    "                              6, 6, 7, 8, 7, 3, 4, 4, 4, 5,\n",
    "                              4, 4, 4, 4, 4, 5, 6, 6, 7, 8]})\n",
    "\n",
    "df"
   ]
  },
  {
   "cell_type": "code",
   "execution_count": null,
   "metadata": {},
   "outputs": [],
   "source": [
    "#H0: Water and sun do not have a effect on the plant height\n",
    "#H1: Water and sun show a effect on the plant height\n",
    "\n",
    "\n",
    "import statsmodels.api as sm\n",
    "from statsmodels.formula.api import ols\n",
    "\n",
    "#perform two-way ANOVA\n",
    "model = ols('height ~ C(water) + C(sun) + C(water):C(sun)', data=df).fit()\n",
    "sm.stats.anova_lm(model,type=2)"
   ]
  },
  {
   "cell_type": "markdown",
   "metadata": {},
   "source": [
    "We can see the following p-values for each of the factors in the table:\n",
    "\n",
    "water: p-value = .000527\n",
    "\n",
    "sun: p-value = .0000002\n",
    "\n",
    "water*sun: p-value = .120667\n",
    "\n",
    "Since the p-values for water and sun are both less than .05, this means that both factors have a statistically significant effect on plant height.\n",
    "\n",
    "And since the p-value for the interaction effect (.120667) is not less than .05, this tells us that there is no significant interaction effect between sunlight exposure and watering frequency."
   ]
  },
  {
   "cell_type": "markdown",
   "metadata": {},
   "source": [
    "Although the ANOVA results tell us that watering frequency and sunlight exposure have a statistically significant effect on plant height, we would need to perform post-hoc tests to determine exactly how different levels of water and sunlight affect plant height."
   ]
  },
  {
   "cell_type": "code",
   "execution_count": null,
   "metadata": {},
   "outputs": [],
   "source": [
    "from statsmodels.stats.multicomp import pairwise_tukeyhsd\n",
    "# perform Tukey's test\n",
    "tukey = pairwise_tukeyhsd(df['height'],\n",
    "                          groups=df[\"water\"],\n",
    "                          alpha=0.05)\n",
    "\n",
    "print(tukey)"
   ]
  },
  {
   "cell_type": "code",
   "execution_count": null,
   "metadata": {},
   "outputs": [],
   "source": [
    "df.groupby(\"water\")[\"height\"].mean()"
   ]
  },
  {
   "cell_type": "code",
   "execution_count": null,
   "metadata": {},
   "outputs": [],
   "source": [
    "from statsmodels.stats.multicomp import pairwise_tukeyhsd\n",
    "# perform Tukey's test\n",
    "tukey = pairwise_tukeyhsd(df['height'],\n",
    "                          groups=df[\"sun\"],\n",
    "                          alpha=0.05)\n",
    "\n",
    "print(tukey)"
   ]
  },
  {
   "cell_type": "code",
   "execution_count": null,
   "metadata": {},
   "outputs": [],
   "source": [
    "df.groupby(\"sun\")[\"height\"].mean()"
   ]
  },
  {
   "cell_type": "markdown",
   "metadata": {},
   "source": [
    "## Q. Chi-Square Goodness of Fit Test"
   ]
  },
  {
   "cell_type": "markdown",
   "metadata": {},
   "source": [
    "A shop owner claims that an equal number of customers come into his shop each weekday. To test this hypothesis, a researcher records the number of customers that come into the shop in a given week and finds the following:\n",
    "\n",
    "Monday: 50 customers\n",
    "\n",
    "Tuesday: 60 customers\n",
    "\n",
    "Wednesday: 40 customers\n",
    "\n",
    "Thursday: 47 customers\n",
    "\n",
    "Friday: 53 customers"
   ]
  },
  {
   "cell_type": "code",
   "execution_count": null,
   "metadata": {},
   "outputs": [],
   "source": [
    "expected = [50, 50, 50, 50, 50]\n",
    "observed = [50, 60, 40, 47, 53]\n"
   ]
  },
  {
   "cell_type": "markdown",
   "metadata": {},
   "source": [
    "H0: (null hypothesis) A variable follows a hypothesized distribution.\n",
    "\n",
    "H0: The distribution of customers is equal to the distribution claimed by the shop owner.\n",
    "\n",
    "H1: (alternative hypothesis) A variable does not follow a hypothesized distribution.\n",
    "\n",
    "H1: The distribution of customers is significantly different from the distribution claimed by the shop owner."
   ]
  },
  {
   "cell_type": "code",
   "execution_count": null,
   "metadata": {},
   "outputs": [],
   "source": [
    "from scipy import stats\n",
    "\n",
    "#perform Chi-Square Goodness of Fit Test\n",
    "stat,p_value=stats.chisquare(f_obs=observed, f_exp=expected)\n",
    "\n",
    "print(p_value)"
   ]
  },
  {
   "cell_type": "markdown",
   "metadata": {},
   "source": [
    "### Q. Since the p-value (.35947) is not less than 0.05, we fail to reject the null hypothesis. This means we do not have sufficient evidence to say that the true distribution of customers is different from the distribution that the shop owner claimed."
   ]
  },
  {
   "cell_type": "markdown",
   "metadata": {},
   "source": [
    "A chess opening is a sequence of moves at the beginning of a chess game. There are many well-studied named openings in chess literature. French Defense is one of the most popular openings for black, although it is considered a relatively weak opening since it gives black probability 0.344 of winning, probability 0.405 of losing, and probability 0.251 of drawing. A chess master believes that he has discovered a new variation of French Defense that may alter the probability distribution of the outcome of the game. In his many Internet chess games in the last two years, he was able to apply the new variation in 77 games. The wins, losses, and draws in the 77 games are given in the table provided. Test, at the 5% level of significance, whether there is sufficient evidence in the data to conclude that the newly discovered variation of French Defense alters the probability distribution of the result of the game."
   ]
  },
  {
   "cell_type": "markdown",
   "metadata": {},
   "source": [
    "Result for Black\tProbability Distribution\tNew Variation Wins<br>\n",
    "Win\t0.344\t31<br>\n",
    "Loss\t0.405\t25<br>\n",
    "Draw\t0.251\t21"
   ]
  },
  {
   "cell_type": "code",
   "execution_count": null,
   "metadata": {},
   "outputs": [],
   "source": [
    "expected=[26,31,20]\n",
    "observed=[31,25,21]\n",
    "\n",
    "#H0: observed==expected\n",
    "#The new variation of French Defense matches the original probability distribution \n",
    "#of the result of the game.\n",
    "\n",
    "#H1: observed!=expected\n",
    "#The new variation of French Defense  does not match the original probability distribution \n",
    "#of the result of the game.(show a difference)\n",
    "\n",
    "stat,p_value=stats.chisquare(f_obs=observed, f_exp=expected)\n",
    "\n",
    "print(p_value)"
   ]
  },
  {
   "cell_type": "code",
   "execution_count": null,
   "metadata": {},
   "outputs": [],
   "source": []
  },
  {
   "cell_type": "code",
   "execution_count": null,
   "metadata": {},
   "outputs": [],
   "source": []
  },
  {
   "cell_type": "code",
   "execution_count": null,
   "metadata": {},
   "outputs": [],
   "source": []
  },
  {
   "cell_type": "markdown",
   "metadata": {},
   "source": [
    "### Q Chi-Square Test of Independence in Python**\n",
    "\n",
    "Suppose we want to know whether or not gender is associated with political party preference. We take a simple random sample of 500 voters and survey them on their political party preference. The following table shows the results of the survey:\n",
    "\n",
    "            Republican\tDemocrat\tIndependent\tTotal\n",
    "    Male\t120\t90\t40\t250\n",
    "    Female\t110\t95\t45\t250\n",
    "    Total\t230\t185\t85\t500\n"
   ]
  },
  {
   "cell_type": "code",
   "execution_count": null,
   "metadata": {},
   "outputs": [],
   "source": [
    "data = [[120, 90, 40],\n",
    "        [110, 95, 45]]\n",
    "\n",
    "#H0: the gender and the political preference are independent of each other\n",
    "#H1: the gender and the political preference are dependent on each other\n",
    "\n",
    "import scipy.stats as stats\n",
    "\n",
    "#perform the Chi-Square Test of Independence\n",
    "chi_stat,p_value,df,exp=stats.chi2_contingency(data)\n",
    "print(chi_stat)\n",
    "print(p_value)\n",
    "print(df)\n",
    "print(exp)"
   ]
  },
  {
   "cell_type": "markdown",
   "metadata": {},
   "source": [
    "The way to interpret the output is as follows:\n",
    "\n",
    "Chi-Square Test Statistic: 0.864\n",
    "\n",
    "p-value: 0.649\n",
    "\n",
    "Degrees of freedom: 2 (calculated as #rows-1 * #columns-1)\n",
    "\n",
    "Array: The last array displays the expected values for each cell in the contingency table."
   ]
  },
  {
   "cell_type": "markdown",
   "metadata": {},
   "source": [
    "H0: (null hypothesis) The two variables are independent.\n",
    "\n",
    "H1: (alternative hypothesis) The two variables are not independent.\n",
    "\n",
    "Since the p-value (.649) of the test is not less than 0.05, we fail to reject the null hypothesis. This means we do not have sufficient evidence to say that there is an association between gender and political party preference.\n",
    "\n",
    "In other words, gender and political party preference are independent."
   ]
  },
  {
   "cell_type": "code",
   "execution_count": null,
   "metadata": {},
   "outputs": [],
   "source": []
  },
  {
   "cell_type": "markdown",
   "metadata": {},
   "source": [
    "### Q. We take a table that shows the number of men and women buying different types of pets.\n",
    "\n",
    "    dog\tcat\tbird\ttotal\n",
    "men\t207\t282\t241\t730\n",
    "\n",
    "women\t234\t242\t232\t708\n",
    "\n",
    "total\t441\t524\t473\t1438\n",
    "\n",
    "The aim of the test is to conclude whether the two variables( gender and choice of pet ) are related to each other.\n"
   ]
  },
  {
   "cell_type": "code",
   "execution_count": null,
   "metadata": {},
   "outputs": [],
   "source": [
    "#H0: Gender and Choice of pets are independent of each other\n",
    "#H1: Gender and choice of pets are dependent on each other/are associated with each other\n",
    "\n",
    "from scipy.stats import chi2_contingency\n",
    "  \n",
    "# defining the table\n",
    "data = [[207, 282, 241], \n",
    "        [234, 242, 232]]\n",
    "chi2_contingency(data)\n",
    "\n",
    "\n",
    "#since the pvalue>0.05, we fail to reject the null hypothesis. So we conclude that\n",
    "#Gender and Choice of pets are independent of each other\n"
   ]
  },
  {
   "cell_type": "code",
   "execution_count": null,
   "metadata": {},
   "outputs": [],
   "source": []
  },
  {
   "cell_type": "code",
   "execution_count": null,
   "metadata": {},
   "outputs": [],
   "source": []
  },
  {
   "cell_type": "code",
   "execution_count": null,
   "metadata": {},
   "outputs": [],
   "source": []
  },
  {
   "cell_type": "raw",
   "metadata": {},
   "source": [
    "Descriptive Stats - 1 \n",
    "Distribution and Skewness and kurtosis - 1\n",
    "Probability - 5\n",
    "Permutations and combinations - No questin just Theory\n",
    "coeff of variation - 1\n",
    "Bernoulli Distribution - 1\n",
    "Binomial Distribution - 1\n",
    "Poisson Distribution - 1\n",
    "Normal Distribution - 1\n",
    "Normalisation and standardisation - 1\n",
    "Hypothesis testing -1\n",
    "sHAPIRO WILK test \n",
    "\n",
    "Pearsons Correlation\n",
    "One Sample Z-Test\n",
    "Two Sample Z-test Python\n",
    "Onew Way Anova\n",
    "Two way ANOVA\n",
    "Chi-Square \n"
   ]
  },
  {
   "cell_type": "code",
   "execution_count": null,
   "metadata": {},
   "outputs": [],
   "source": []
  }
 ],
 "metadata": {
  "kernelspec": {
   "display_name": "Python 3 (ipykernel)",
   "language": "python",
   "name": "python3"
  },
  "language_info": {
   "codemirror_mode": {
    "name": "ipython",
    "version": 3
   },
   "file_extension": ".py",
   "mimetype": "text/x-python",
   "name": "python",
   "nbconvert_exporter": "python",
   "pygments_lexer": "ipython3",
   "version": "3.11.5"
  }
 },
 "nbformat": 4,
 "nbformat_minor": 4
}
